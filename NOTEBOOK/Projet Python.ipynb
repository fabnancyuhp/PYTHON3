{
 "cells": [
  {
   "cell_type": "markdown",
   "metadata": {
    "collapsed": false
   },
   "source": [
    "# Projet 1 à 5 : Sample Insurance Portfolio, Real estate transactions, Sales transactions..."
   ]
  },
  {
   "cell_type": "markdown",
   "metadata": {
    "collapsed": false
   },
   "source": [
    "Dans le site internet https://support.spatialkey.com/spatialkey-sample-csv-data/ vous avez un ensemble de 5 jeux de données cvs.\n",
    " * Sample insurance portfolio\n",
    " * Real estate transactions\n",
    " * Sales transactions\n",
    " * Company Funding Records\n",
    " * Crime Records"
   ]
  },
  {
   "cell_type": "markdown",
   "metadata": {
    "collapsed": false
   },
   "source": [
    "Chaque jeux de donnée correspond à un projet. Vous devez:\n",
    "* choisir l'un des jeux de données\n",
    "* décrire de manière sommaire de quoi parle le jeux de données choisi\n",
    "* décrire les variables du jeux de données (leurs types et leurs sens)\n",
    "* Créer 2 tableaux agrégés : faire un commentaire de ces 2 tableaux\n",
    "* Créer 2 datavisualisation (diagramme en baton ou bien histogramme, cammenbert, nuage de point) : faire un commentaire de ces 2 graphes"
   ]
  },
  {
   "cell_type": "markdown",
   "metadata": {
    "collapsed": false
   },
   "source": [
    "Dans le cadre des ces projets vous devez rendre un notebook avec les codes qui vous ont permis de faire les tableaux agrégés et les datavisualisations. Vous devez également faire une présentation power point ou bien latex de 11 slides maximums."
   ]
  },
  {
   "cell_type": "markdown",
   "metadata": {
    "collapsed": false
   },
   "source": [
    "# Projet 6 : Consumer Complaint Database\n",
    "Les données de ce projet sont accessibles ici: \n",
    "* https://catalog.data.gov/dataset/consumer-complaint-database\n",
    "* ou bien sur kaggle https://www.kaggle.com/cfpb/us-consumer-finance-complaints\n",
    "\n",
    "Vous avez une ilustration de l'utilisation des donnée ici:\n",
    "https://towardsdatascience.com/multi-class-text-classification-with-lstm-1590bee1bd17<br>\n",
    "Bien sur, cette ilustration dépasse le cadre de ce cours,. En revanche vous pouvez en déduire le sens de certaine variable et comprendre l'utilisation de ces dernières dans le cadre du deep learning. "
   ]
  },
  {
   "cell_type": "markdown",
   "metadata": {
    "collapsed": false
   },
   "source": [
    "## Travial à faire\n",
    "Vous devez dans un premier temps:\n",
    "* décrire de manière sommaire de quoi parle le jeux de données choisi\n",
    "* décrire les variables du jeux de données (leurs types et leur sens)\n",
    "\n",
    "Ensuite vous devez garder les lignes de cette base de donnée ayant la colonne consumer_complaint_narrative non vide."
   ]
  },
  {
   "cell_type": "markdown",
   "metadata": {
    "collapsed": false
   },
   "source": [
    "Ensuite vous avez le choix entre 2 types de travails.\n",
    "* Créer 2 tableaux agrégés : faire un commentaire de ces 2 tableaux\n",
    "* Créer 2 datavisualisation (diagramme en baton ou bien histogramme, cammenbert, nuage de point) : faire un commentaire de ces 2 graphes\n",
    "\n",
    "\n",
    "Dans le cadre des ce projet vous devez rendre un notebook avec les codes qui vous ont permis de faire les tableaux agrégés et les datavisualisations. Vous devez également faire une présentation power point ou bien latex de 11 slides maximums.\n",
    "\n"
   ]
  },
  {
   "cell_type": "markdown",
   "metadata": {
    "collapsed": false
   },
   "source": [
    "# Projet 6 bis : Nuage de mots sur les données Consumer Complaint Database "
   ]
  },
  {
   "cell_type": "markdown",
   "metadata": {
    "collapsed": false
   },
   "source": [
    "Le but de ce projet est de faire des nuages de mots sur les texts liés aux plaintes de clients d'assurance."
   ]
  },
  {
   "cell_type": "markdown",
   "metadata": {
    "collapsed": false
   },
   "source": [
    "<img src=\"wordcloudexemple.png\" />"
   ]
  },
  {
   "cell_type": "markdown",
   "metadata": {
    "collapsed": false
   },
   "source": [
    "Ce projet est techniquement plus dure que les précédents. Les données de ce projet sont accessibles ici: \n",
    "* https://catalog.data.gov/dataset/consumer-complaint-database\n",
    "* ou bien sur kaggle https://www.kaggle.com/cfpb/us-consumer-finance-complaints\n",
    "\n",
    "Vous avez une ilustration de l'utilisation des données ici:\n",
    "https://towardsdatascience.com/multi-class-text-classification-with-lstm-1590bee1bd17<br>\n",
    "Bien sur, cette ilustration dépasse le cadre de ce cours,. En revanche vous pouvez en déduire le sens de certaine variable et comprendre l'utilisation de ces dernières dans le cadre du deep learning."
   ]
  },
  {
   "cell_type": "markdown",
   "metadata": {
    "collapsed": false
   },
   "source": [
    "## Travail à faire\n",
    "Vous devez dans un premier temps:\n",
    "* décrire de manière sommaire de quoi parle le jeux de données choisi\n",
    "* décrire les variables du jeux de données (leurs types et leur sens)\n",
    "\n",
    "Ensuite vous devez garder les lignes de cette base de donnée ayant la colonne consumer_complaint_narrative non vide."
   ]
  },
  {
   "cell_type": "markdown",
   "metadata": {
    "collapsed": false
   },
   "source": [
    "Vous devez reformater la variable Product en utilisant le code ci-dessous."
   ]
  },
  {
   "cell_type": "code",
   "execution_count": 0,
   "metadata": {
    "collapsed": false
   },
   "outputs": [
   ],
   "source": [
    "df.loc[df['Product'] == 'Credit reporting', 'Product'] = 'Credit reporting, credit repair services, or other personal consumer reports'\n",
    "df.loc[df['Product'] == 'Credit card', 'Product'] = 'Credit card or prepaid card'\n",
    "df.loc[df['Product'] == 'Payday loan', 'Product'] = 'Payday loan, title loan, or personal loan'\n",
    "df.loc[df['Product'] == 'Virtual currency', 'Product'] = 'Money transfer, virtual currency, or money service'\n",
    "df = df[df.Product != 'Other financial service']"
   ]
  },
  {
   "cell_type": "markdown",
   "metadata": {
    "collapsed": false
   },
   "source": [
    "Vous devez ensuite préparer les données relatif aux texts des plaintes des clients. ces textes sont dans la variable Consumer complaint narrative.\n",
    "* On doit convertir en minuscule la colonne Consumer complaint narrative\n",
    "* Enlever les chiffres de la colonne Consumer complaint narrative\n",
    "* Enlever la ponctuation de la colonne Consumer complaint narrative"
   ]
  },
  {
   "cell_type": "markdown",
   "metadata": {
    "collapsed": false
   },
   "source": [
    "Vous devez faire des nuages de mots sur les données consumer_complaint_narrative. Il y a un nuage de mots par product. La construction d'un nuage de mot sous python est expliqué sur le lien suivant: https://www.datacamp.com/community/tutorials/wordcloud-python"
   ]
  }
 ],
 "metadata": {
  "kernelspec": {
   "display_name": "Python 3 (Anaconda 2019)",
   "env": {
    "LD_LIBRARY_PATH": "/ext/anaconda-2019.03/lib",
    "PROJ_LIB": "/ext/anaconda-2019.03/share/proj",
    "PYTHONHOME": "/ext/anaconda-2019.03/lib/python3.7",
    "PYTHONPATH": "/ext/anaconda-2019.03/lib/python3.7:/ext/anaconda-2019.03/lib/python3.7/site-packages"
   },
   "language": "python",
   "metadata": {
    "cocalc": {
     "description": "Python/R distribution for data science",
     "priority": 5,
     "url": "https://www.anaconda.com/distribution/"
    }
   },
   "name": "anaconda2019"
  },
  "language_info": {
   "codemirror_mode": {
    "name": "ipython",
    "version": 3
   },
   "file_extension": ".py",
   "mimetype": "text/x-python",
   "name": "python",
   "nbconvert_exporter": "python",
   "pygments_lexer": "ipython3",
   "version": "3.7.3"
  }
 },
 "nbformat": 4,
 "nbformat_minor": 0
}