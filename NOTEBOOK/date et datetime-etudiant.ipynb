{
 "cells": [
  {
   "cell_type": "markdown",
   "metadata": {
    "collapsed": false
   },
   "source": [
    "Dans ce chapitre, on présente les objets date et datetime. On peut traiter des objets datetimes en utilisant notemment ces 3 packages:\n",
    "* datetime\n",
    "* pandas\n",
    "* numpy\n",
    "\n",
    "Les liens suivants sont des références:\n",
    "* objet datetime : https://docs.python.org/fr/3/library/datetime.html\n",
    "* fonctionalité de date pandas : https://pandas.pydata.org/pandas-docs/stable/user_guide/timeseries.html\n",
    "* pd.date_range : https://pandas.pydata.org/pandas-docs/stable/reference/api/pandas.date_range.html"
   ]
  },
  {
   "cell_type": "markdown",
   "metadata": {
    "collapsed": false
   },
   "source": [
    "# Objet datetime et date avec le package datetime\n",
    "En python les objets datetime sont crées avec le package datetime."
   ]
  },
  {
   "cell_type": "code",
   "execution_count": 3,
   "metadata": {
    "collapsed": false
   },
   "outputs": [
    {
     "data": {
      "text/plain": [
       "datetime.datetime(2015, 5, 21, 3, 2)"
      ]
     },
     "execution_count": 3,
     "metadata": {
     },
     "output_type": "execute_result"
    }
   ],
   "source": [
    "from datetime import datetime, date\n",
    "\n",
    "dt1 = datetime(2015,5,21,3,2,0)\n",
    "dt1"
   ]
  },
  {
   "cell_type": "markdown",
   "metadata": {
    "collapsed": false
   },
   "source": [
    "Ci-dessous la création d'une date:"
   ]
  },
  {
   "cell_type": "code",
   "execution_count": 10,
   "metadata": {
    "collapsed": false
   },
   "outputs": [
    {
     "data": {
      "text/plain": [
       "datetime.date(2015, 6, 21)"
      ]
     },
     "execution_count": 10,
     "metadata": {
     },
     "output_type": "execute_result"
    }
   ],
   "source": [
    "from datetime import datetime, date\n",
    "date1 = date(2015,6,21)\n",
    "date1"
   ]
  },
  {
   "cell_type": "markdown",
   "metadata": {
    "collapsed": false
   },
   "source": [
    "On convertie l'objet dt1 datetime en date:"
   ]
  },
  {
   "cell_type": "code",
   "execution_count": 9,
   "metadata": {
    "collapsed": false
   },
   "outputs": [
    {
     "data": {
      "text/plain": [
       "datetime.date(2015, 5, 21)"
      ]
     },
     "execution_count": 9,
     "metadata": {
     },
     "output_type": "execute_result"
    }
   ],
   "source": [
    "dt1.date()"
   ]
  },
  {
   "cell_type": "markdown",
   "metadata": {
    "collapsed": false
   },
   "source": [
    "Soit dt un objet datetime:\n",
    "* dt.year, dt.month, dt.day permettent d'extraire l'année, le mois, le jour du mois\n",
    "* dt.weekday(), dt.isoweekday() permettent d'extraire le jour de la semaine\n",
    "* dt.isocalendar() renvoie un tuple de 3 éléments, (année ISO, numéro de semaine ISO, jour de la semaine ISO).\n",
    "* dt.toordinal() oordinal() renvoie l'ordinal grégorien proleptique de la date de l'objet datetime dt"
   ]
  },
  {
   "cell_type": "markdown",
   "metadata": {
    "collapsed": false
   },
   "source": [
    "On va extraire l'année, le mois, le jour, le jour de la semaine de datetime(2019,4,25,2,3,5):"
   ]
  },
  {
   "cell_type": "code",
   "execution_count": 1,
   "metadata": {
    "collapsed": false
   },
   "outputs": [
    {
     "name": "stdout",
     "output_type": "stream",
     "text": [
      "annee:2019 ,mois:4 ,jour_semaine:3 ,jour_semaine_iso:4\n"
     ]
    }
   ],
   "source": [
    "from datetime import datetime, date\n",
    "dt2 = datetime(2019,4,25,2,3,5)\n",
    "\n",
    "annee = dt2.year\n",
    "mois = dt2.month\n",
    "jour = dt2.day\n",
    "jour_semaine = dt2.weekday()\n",
    "jour_semaine_iso = dt2.isoweekday()\n",
    "print(\"annee:\"+str(annee)+str(\" ,\")+\"mois:\"+str(mois)+\" ,\"+\"jour_semaine:\"+str(jour_semaine)+\" ,\"+\"jour_semaine_iso:\"+str(jour_semaine_iso))"
   ]
  },
  {
   "cell_type": "markdown",
   "metadata": {
    "collapsed": false
   },
   "source": [
    "weekday() renvoie le jour de la semaine sous forme de nombre, où lundi vaut 0 et dimanche vaut 6.\n",
    "La méthode isoweekday() renvoie le jour de la semaine sous forme de nombre, où lundi vaut 1 et dimanche vaut 7."
   ]
  },
  {
   "cell_type": "markdown",
   "metadata": {
    "collapsed": false
   },
   "source": [
    "On applique la méthode isocalendar pour déterminer la semaine et le jour du 29-05-1990. "
   ]
  },
  {
   "cell_type": "code",
   "execution_count": 3,
   "metadata": {
    "collapsed": false
   },
   "outputs": [
    {
     "data": {
      "text/plain": [
       "(1990, 22, 2)"
      ]
     },
     "execution_count": 3,
     "metadata": {
     },
     "output_type": "execute_result"
    }
   ],
   "source": [
    "from datetime import datetime, date\n",
    "dt3 = datetime(1990,5,29)\n",
    "dt3.isocalendar()"
   ]
  },
  {
   "cell_type": "markdown",
   "metadata": {
    "collapsed": false
   },
   "source": [
    "Le 29-05-1990 était un mardi et c'était la semaine 22 de l'année 1990. fromordinal(ordinal) Renvoie la date correspondant à l'ordinal grégorien proleptique. Nous allons illustrer son application. On ajoute 3 à l'ordinal de dt3 = 29-05-1990 puis on va déterminer le jour que cela représente:"
   ]
  },
  {
   "cell_type": "code",
   "execution_count": 4,
   "metadata": {
    "collapsed": false
   },
   "outputs": [
    {
     "data": {
      "text/plain": [
       "726616"
      ]
     },
     "execution_count": 4,
     "metadata": {
     },
     "output_type": "execute_result"
    }
   ],
   "source": [
    "from datetime import datetime, date\n",
    "dt3 =  datetime(1990,5,29)\n",
    "dt3_ordinal = dt3.toordinal()\n",
    "dt3_ordinal"
   ]
  },
  {
   "cell_type": "code",
   "execution_count": 7,
   "metadata": {
    "collapsed": false
   },
   "outputs": [
    {
     "data": {
      "text/plain": [
       "(1990, 22, 5)"
      ]
     },
     "execution_count": 7,
     "metadata": {
     },
     "output_type": "execute_result"
    }
   ],
   "source": [
    "dt4 = datetime.fromordinal(dt3_ordinal+3)\n",
    "dt4.isocalendar()"
   ]
  },
  {
   "cell_type": "markdown",
   "metadata": {
    "collapsed": false
   },
   "source": [
    "Lorsque l'on ajoute 3 jour à la date dt3 on est toujours dans la semaine 22 de l'année 1990. C'est le jour 5 de la semaine, c'est à dire un vendredi."
   ]
  },
  {
   "cell_type": "markdown",
   "metadata": {
    "collapsed": false
   },
   "source": [
    "fromordinal(ordinal) Renvoie la date correspondant à l'ordinal grégorien proleptique."
   ]
  },
  {
   "cell_type": "markdown",
   "metadata": {
    "collapsed": false
   },
   "source": [
    "<h1>Exercice</h1>\n",
    "Quel jour de la semaine correspondes aux dates suivantes: 21-05-1981, 30-06-1999, 25-03-1986, 26-04-1986?"
   ]
  },
  {
   "cell_type": "code",
   "execution_count": 21,
   "metadata": {
    "collapsed": false
   },
   "outputs": [
    {
     "data": {
      "text/plain": [
       "[(datetime.datetime(1981, 5, 21, 0, 0), 4),\n",
       " (datetime.datetime(1999, 6, 30, 0, 0), 3),\n",
       " (datetime.datetime(1986, 3, 25, 0, 0), 2),\n",
       " (datetime.datetime(1986, 4, 26, 0, 0), 6)]"
      ]
     },
     "execution_count": 21,
     "metadata": {
     },
     "output_type": "execute_result"
    }
   ],
   "source": [
    "from datetime import datetime\n",
    "listdate = [datetime(1981,5,21),datetime(1999,6,30),datetime(1986,3,25),datetime(1986,4,26)]\n",
    "[(o,o.isoweekday()) for o in listdate]"
   ]
  },
  {
   "cell_type": "markdown",
   "metadata": {
    "collapsed": false
   },
   "source": [
    "le 21-05-1981 est un jeudi, le 30-06-1999 est un mercredi"
   ]
  },
  {
   "cell_type": "markdown",
   "metadata": {
    "collapsed": false
   },
   "source": [
    "<h1>Exercice</h1>\n",
    "Nous somme le dimanche 18 aout 2019. Quel jour seront-nous 1000 jours plus tard?"
   ]
  },
  {
   "cell_type": "code",
   "execution_count": 4,
   "metadata": {
    "collapsed": false
   },
   "outputs": [
    {
     "name": "stdout",
     "output_type": "stream",
     "text": [
      "2022-05-14 00:00:00\n"
     ]
    },
    {
     "data": {
      "text/plain": [
       "6"
      ]
     },
     "execution_count": 4,
     "metadata": {
     },
     "output_type": "execute_result"
    }
   ],
   "source": [
    "from datetime import datetime, date\n",
    "\n",
    "#On créer la date\n",
    "dim18_2019 = datetime(2019,8,18)\n",
    "\n",
    "#on prend l'ordinale de la date\n",
    "date_nouv_ordinal = dim18_2019.toordinal()+1000\n",
    "#On crée la nouvelle date\n",
    "date_nouv = datetime.fromordinal(date_nouv_ordinal)\n",
    "print(date_nouv)\n",
    "#On cherche le jour\n",
    "date_nouv.isoweekday()"
   ]
  },
  {
   "cell_type": "markdown",
   "metadata": {
    "collapsed": false
   },
   "source": [
    "1000 jours plus tard nous seront le 14/05/2022 et se sera un samedi (isoweekday=6)."
   ]
  },
  {
   "cell_type": "markdown",
   "metadata": {
    "collapsed": false
   },
   "source": [
    "## Les  timedelta : ajout de quantité de temps\n",
    "On a va montrer sur quelques exemples l'utilisation des timedelta\n",
    "<h2>Exemple</h2>\n",
    "Nous somme le 25/06/2009 à 22h30."
   ]
  },
  {
   "cell_type": "markdown",
   "metadata": {
    "collapsed": false
   },
   "source": [
    "1/ Quelle date seront nous 399 jours plus? On utilise timedelta avec le paramêtre days."
   ]
  },
  {
   "cell_type": "code",
   "execution_count": 8,
   "metadata": {
    "collapsed": false
   },
   "outputs": [
    {
     "data": {
      "text/plain": [
       "datetime.date(2010, 7, 29)"
      ]
     },
     "execution_count": 8,
     "metadata": {
     },
     "output_type": "execute_result"
    }
   ],
   "source": [
    "from datetime import datetime, date, timedelta\n",
    "jour = datetime(2009,6,25,22,30)\n",
    "jour_ajout = jour+timedelta(days=399)\n",
    "jour_ajout.date()"
   ]
  },
  {
   "cell_type": "markdown",
   "metadata": {
    "collapsed": false
   },
   "source": [
    "Nous seront le 29 juillet 2010 399 jours plus tard."
   ]
  },
  {
   "cell_type": "markdown",
   "metadata": {
    "collapsed": false
   },
   "source": [
    "2/ Quelle heure et quelle date seront nous 300 000 secondes plus tard? On utilise timedelta avec le paramêtre seconds."
   ]
  },
  {
   "cell_type": "code",
   "execution_count": 12,
   "metadata": {
    "collapsed": false
   },
   "outputs": [
    {
     "name": "stdout",
     "output_type": "stream",
     "text": [
      "heure:9\n"
     ]
    },
    {
     "data": {
      "text/plain": [
       "datetime.date(2009, 6, 29)"
      ]
     },
     "execution_count": 12,
     "metadata": {
     },
     "output_type": "execute_result"
    }
   ],
   "source": [
    "from datetime import datetime, date, timedelta\n",
    "jour = datetime(2009,6,25,22,30)\n",
    "jour_ajout = jour+timedelta(seconds=300000)\n",
    "jour_ajout_heure= jour_ajout.hour\n",
    "print(\"heure:\" +str(jour_ajout_heure))\n",
    "jour_ajout.date()"
   ]
  },
  {
   "cell_type": "markdown",
   "metadata": {
    "collapsed": false
   },
   "source": [
    "Nous serons le 29 juin 2009 300 000 secondes plus tard, il sera 9 heure."
   ]
  },
  {
   "cell_type": "markdown",
   "metadata": {
    "collapsed": false
   },
   "source": [
    "3/ Quelle date seront nous 10 000 heures plus tard?"
   ]
  },
  {
   "cell_type": "code",
   "execution_count": 13,
   "metadata": {
    "collapsed": false
   },
   "outputs": [
    {
     "data": {
      "text/plain": [
       "datetime.date(2010, 8, 16)"
      ]
     },
     "execution_count": 13,
     "metadata": {
     },
     "output_type": "execute_result"
    }
   ],
   "source": [
    "from datetime import datetime, date, timedelta\n",
    "jour = datetime(2009,6,25,22,30)\n",
    "jour_ajout = jour+timedelta(hours=10000)\n",
    "jour_ajout.date()"
   ]
  },
  {
   "cell_type": "markdown",
   "metadata": {
    "collapsed": false
   },
   "source": [
    "Nous seront le 16/08/2010 10000 heures plus tard."
   ]
  },
  {
   "cell_type": "markdown",
   "metadata": {
    "collapsed": false
   },
   "source": [
    "## Les méthodes strptime et strftime : convertion datetime en string et inversement\n",
    "* datetime.strptime(date_string, fmt)  : convertie un string date_string représantant une date en datetime selon le format fmt\n",
    "* d.strftime(fmt) : convertie un le datetime d en un string selon le format fmt\n",
    "\n",
    "Un format d'un string représentant une date peut être '%b %d,%Y' ce qui veut dire Nom du mois jour du mois en 2 chiffres et année en 4 chiffres. Par exemple, jan 22 2018."
   ]
  },
  {
   "cell_type": "markdown",
   "metadata": {
    "collapsed": false
   },
   "source": [
    "<table border=\"1\" width=\"900\">\n",
    "<tr>\n",
    " <td>%a </td> <td>Jour de la semaine abrégé dans la langue locale.</td><td> Sun, Mon, ..., Sat (en_US);Lu, Ma, ..., Di (fr_FR)</td>\n",
    "</tr> \n",
    "<tr>\n",
    " <td>%A</td> <td>Jour de la semaine complet dans la langue locale. </td><td>Sunday, Monday, ..., Saturday (en_US);Lundi, Mardi, ..., Dimanche(fr_FR)</td>\n",
    "</tr>\n",
    "<tr>\n",
    " <td> %w </td> <td> Jour de la semaine en chiffre, avec 0 pour le dimanche et 6 pour le samedi. </td><td> 0, 1, ..., 6   </td>\n",
    "</tr> \n",
    "<tr>\n",
    " <td> %d </td> <td>Jour du mois sur deux chiffres.  </td><td> 01, 02, ..., 31  </td>\n",
    "</tr>\n",
    "<tr>\n",
    " <td> %b </td> <td> Nom du mois abrégé dans la langue locale </td><td>  Jan, Feb, ..., Dec (en_US);janv., févr., ..., déc. (fr_FR)\n",
    " </td>\n",
    "</tr>\n",
    "<tr>\n",
    " <td> %B </td> <td>  Nom complet du mois dans la langue locale. </td><td> January, February, ..., December (en_US);janvier, février, ..., décembre (fr_FR)</td>\n",
    "</tr>  \n",
    "\n",
    "<tr>\n",
    " <td> %m </td> <td> Numéro du mois sur deux chiffres. </td><td> 01, 02, ..., 12</td>\n",
    "</tr>      \n",
    "\n",
    "<tr>\n",
    " <td> %y </td> <td> Année sur deux chiffres (sans le siècle). </td><td> 00, 01, ..., 99</td>\n",
    "</tr>   \n",
    "<tr>\n",
    " <td> %Y </td> <td> Année complète sur quatre chiffres. </td><td> 0001, 0002, ..., 2013, 2014,</td>\n",
    "</tr>       \n",
    "</table>"
   ]
  },
  {
   "cell_type": "markdown",
   "metadata": {
    "collapsed": false
   },
   "source": [
    "<h2>Exemple utilisation strftime</h2>\n",
    "On va transformer le datetime(2019,5,26) en 3 string différent: \n",
    "<ul>\n",
    "  <li>string1 résultat du format '%A'</li>\n",
    "  <li>string2 résultat du format '%A , le %d %B %Y' </li>\n",
    "  <li>string3 résultat du format '%a le %d/%m/%y'</li>  \n",
    "</ul>"
   ]
  },
  {
   "cell_type": "code",
   "execution_count": 11,
   "metadata": {
    "collapsed": false
   },
   "outputs": [
    {
     "name": "stdout",
     "output_type": "stream",
     "text": [
      "string1: Sunday ,string2: Sunday , le 26 May 2019 ,string3: Sun le 26/05/19\n"
     ]
    }
   ],
   "source": [
    "from datetime import datetime, date\n",
    "date = datetime(2019,5,26)\n",
    "string1 = date.strftime('%A')\n",
    "string2 = date.strftime('%A , le %d %B %Y')\n",
    "string3 = date.strftime('%a le %d/%m/%y')\n",
    "print('string1: '+str(string1)+\" ,\"+'string2: '+str(string2)+\" ,\"+'string3: '+str(string3))"
   ]
  },
  {
   "cell_type": "markdown",
   "metadata": {
    "collapsed": false
   },
   "source": [
    "<h2>Exemple utilisation strftime </h2>\n",
    "On va transformer le datetime(2015,10,23) en string du type 'yyyy-mm-dd', 'dd-mm-yyyy', 'le dd moislettre yyyy'."
   ]
  },
  {
   "cell_type": "code",
   "execution_count": 5,
   "metadata": {
    "collapsed": false
   },
   "outputs": [
    {
     "name": "stdout",
     "output_type": "stream",
     "text": [
      "string1: 2015-10-23 ,string2: 23-10-2015 ,string3: le 23 October 2015\n"
     ]
    }
   ],
   "source": [
    "from datetime import datetime, date\n",
    "jour = datetime(2015,10,23)\n",
    "string1 = jour.strftime('%Y-%m-%d')\n",
    "string2 = jour.strftime('%d-%m-%Y')\n",
    "string3 = jour.strftime('le %d %B %Y')\n",
    "print('string1: '+str(string1)+\" ,\"+'string2: '+str(string2)+\" ,\"+'string3: '+str(string3))"
   ]
  },
  {
   "cell_type": "markdown",
   "metadata": {
    "collapsed": false
   },
   "source": [
    "<h2>Exemple utilisation datetime.strptime(date_string, fmt) </h2>\n",
    "Ici on va convertir les chaînes de caractères suivantes en datetime:\n",
    "<ul>\n",
    "    <li>le 23 October 2015</li>\n",
    "    <li>Sun le 26/05/19</li>\n",
    "    <li>2015-10-23</li>\n",
    "</ul>"
   ]
  },
  {
   "cell_type": "code",
   "execution_count": 16,
   "metadata": {
    "collapsed": false
   },
   "outputs": [
    {
     "name": "stdout",
     "output_type": "stream",
     "text": [
      "date1: 2015-10-23 00:00:00 ,date2: 2019-05-26 00:00:00 ,date3: 2015-10-23 00:00:00\n"
     ]
    }
   ],
   "source": [
    "from datetime import datetime\n",
    "date1 = datetime.strptime('le 23 October 2015','le %d %B %Y')\n",
    "date2 = datetime.strptime('Sun le 26/05/19','%a le %d/%m/%y')\n",
    "date3 = datetime.strptime('2015-10-23','%Y-%m-%d')\n",
    "\n",
    "print('date1: '+str(date1)+\" ,\"+'date2: '+str(date2)+\" ,\"+'date3: '+str(date3))"
   ]
  },
  {
   "cell_type": "markdown",
   "metadata": {
    "collapsed": false
   },
   "source": [
    "# Datetime dans le contexte pandas\n",
    "Les fonction du package datetime sont utilisables avec la logique apply dans la cadre des dataframe. Le package pandas fournit également des fonctionnalitées direct sur les date/datetimes. On va montrer comment utiliser les 2 approches"
   ]
  },
  {
   "cell_type": "markdown",
   "metadata": {
    "collapsed": false
   },
   "source": [
    "<h2>Exemple</h2>\n",
    "Dans le dataframe exemple_date suivant, il y a une colonne string exemple['datestring'] représentant des dates. La colonne exemple['volume'] représente des volumes.\n",
    "<ul>\n",
    "<li>1/ On va convertire cette colonne en utilisant la fonctionnalité to_datetime du package pandas. Le résultat sera stocké dans date1</li>\n",
    "<li>2/ On va convertire cette colonne en utilisant la fonction strptime du package. Le résultat sera stocké dans date2</li>\n",
    "<li>3/ On va ajouter un timedelta aléatoire compris entre 3 et 20 jours en utilisant le package datetime</li>\n",
    "<li>4/ On va ajouter un timedelta aléatoire compris entre 3 et 20 jour en utilisant le package pandas pd.Timedelta(days=i)</li>\n",
    "<li>5/ On extrait le mois de date1 de 2 façons différentes</li>\n",
    "</ul>"
   ]
  },
  {
   "cell_type": "code",
   "execution_count": 2,
   "metadata": {
    "collapsed": false
   },
   "outputs": [
    {
     "data": {
      "text/html": [
       "<div>\n",
       "<style scoped>\n",
       "    .dataframe tbody tr th:only-of-type {\n",
       "        vertical-align: middle;\n",
       "    }\n",
       "\n",
       "    .dataframe tbody tr th {\n",
       "        vertical-align: top;\n",
       "    }\n",
       "\n",
       "    .dataframe thead th {\n",
       "        text-align: right;\n",
       "    }\n",
       "</style>\n",
       "<table border=\"1\" class=\"dataframe\">\n",
       "  <thead>\n",
       "    <tr style=\"text-align: right;\">\n",
       "      <th></th>\n",
       "      <th>datestring</th>\n",
       "      <th>volume</th>\n",
       "    </tr>\n",
       "  </thead>\n",
       "  <tbody>\n",
       "    <tr>\n",
       "      <th>0</th>\n",
       "      <td>Annee:2018 mois:May jour:15</td>\n",
       "      <td>28</td>\n",
       "    </tr>\n",
       "    <tr>\n",
       "      <th>1</th>\n",
       "      <td>Annee:2018 mois:January jour:13</td>\n",
       "      <td>68</td>\n",
       "    </tr>\n",
       "    <tr>\n",
       "      <th>2</th>\n",
       "      <td>Annee:2018 mois:June jour:07</td>\n",
       "      <td>20</td>\n",
       "    </tr>\n",
       "  </tbody>\n",
       "</table>\n",
       "</div>"
      ],
      "text/plain": [
       "                        datestring  volume\n",
       "0      Annee:2018 mois:May jour:15      28\n",
       "1  Annee:2018 mois:January jour:13      68\n",
       "2     Annee:2018 mois:June jour:07      20"
      ]
     },
     "execution_count": 2,
     "metadata": {
     },
     "output_type": "execute_result"
    }
   ],
   "source": [
    "#Création du dataframe\n",
    "import numpy as np\n",
    "from datetime import datetime\n",
    "import pandas as pd\n",
    "\n",
    "exemple_date = pd.DataFrame({'datestring':[datetime(2018,np.random.randint(1,12),np.random.randint(1,25)).strftime('Annee:%Y mois:%B jour:%d') for o in range(0,15)],'volume':np.random.randint(20,100,size=15)})\n",
    "exemple_date.head(3)"
   ]
  },
  {
   "cell_type": "markdown",
   "metadata": {
    "collapsed": false
   },
   "source": [
    "1/ On va convertire cette colonne en utilisant la fonctionnalité to_datetime du package pandas. Le résultat sera stocké dans date1:"
   ]
  },
  {
   "cell_type": "code",
   "execution_count": 3,
   "metadata": {
    "collapsed": false
   },
   "outputs": [
    {
     "data": {
      "text/plain": [
       "0   2018-05-15\n",
       "1   2018-01-13\n",
       "Name: date1, dtype: datetime64[ns]"
      ]
     },
     "execution_count": 3,
     "metadata": {
     },
     "output_type": "execute_result"
    }
   ],
   "source": [
    "exemple_date['date1'] = pd.to_datetime(exemple_date['datestring'],format='Annee:%Y mois:%B jour:%d')\n",
    "exemple_date['date1'].head(2)"
   ]
  },
  {
   "cell_type": "markdown",
   "metadata": {
    "collapsed": false
   },
   "source": [
    "2/ On va convertire cette colonne en utilisant la fonction strptime du package. Le résultat sera stocké dans date2"
   ]
  },
  {
   "cell_type": "code",
   "execution_count": 4,
   "metadata": {
    "collapsed": false
   },
   "outputs": [
    {
     "data": {
      "text/plain": [
       "0   2018-05-15\n",
       "1   2018-01-13\n",
       "Name: date2, dtype: datetime64[ns]"
      ]
     },
     "execution_count": 4,
     "metadata": {
     },
     "output_type": "execute_result"
    }
   ],
   "source": [
    "from datetime import datetime\n",
    "exemple_date['date2'] = exemple_date['datestring'].apply(lambda x:datetime.strptime(x,'Annee:%Y mois:%B jour:%d'))\n",
    "exemple_date['date2'].head(2)"
   ]
  },
  {
   "cell_type": "markdown",
   "metadata": {
    "collapsed": false
   },
   "source": [
    "3/ On va ajouter un timedelta aléatoire compris entre 3 et 20 jours en utilisant le package datetime. Ce timedelta est ajouté a exemple_date['date2']. On stocke le résultat dans exemple_date['date3']."
   ]
  },
  {
   "cell_type": "code",
   "execution_count": 14,
   "metadata": {
    "collapsed": false
   },
   "outputs": [
    {
     "data": {
      "text/html": [
       "<div>\n",
       "<style scoped>\n",
       "    .dataframe tbody tr th:only-of-type {\n",
       "        vertical-align: middle;\n",
       "    }\n",
       "\n",
       "    .dataframe tbody tr th {\n",
       "        vertical-align: top;\n",
       "    }\n",
       "\n",
       "    .dataframe thead th {\n",
       "        text-align: right;\n",
       "    }\n",
       "</style>\n",
       "<table border=\"1\" class=\"dataframe\">\n",
       "  <thead>\n",
       "    <tr style=\"text-align: right;\">\n",
       "      <th></th>\n",
       "      <th>date2</th>\n",
       "      <th>date3</th>\n",
       "    </tr>\n",
       "  </thead>\n",
       "  <tbody>\n",
       "    <tr>\n",
       "      <th>0</th>\n",
       "      <td>2018-05-15</td>\n",
       "      <td>2018-05-26</td>\n",
       "    </tr>\n",
       "    <tr>\n",
       "      <th>1</th>\n",
       "      <td>2018-01-13</td>\n",
       "      <td>2018-01-17</td>\n",
       "    </tr>\n",
       "  </tbody>\n",
       "</table>\n",
       "</div>"
      ],
      "text/plain": [
       "       date2      date3\n",
       "0 2018-05-15 2018-05-26\n",
       "1 2018-01-13 2018-01-17"
      ]
     },
     "execution_count": 14,
     "metadata": {
     },
     "output_type": "execute_result"
    }
   ],
   "source": [
    "from datetime import datetime, date, timedelta\n",
    "import numpy as np\n",
    "np.random.seed(1998)\n",
    "exemple_date['date3'] = exemple_date['date2'].apply(lambda x:x+timedelta(days=np.random.randint(3,20)))\n",
    "exemple_date[['date2','date3']].head(2)"
   ]
  },
  {
   "cell_type": "markdown",
   "metadata": {
    "collapsed": false
   },
   "source": [
    "https://www.tutorialspoint.com/python_pandas/python_pandas_timedelta.htm"
   ]
  },
  {
   "cell_type": "markdown",
   "metadata": {
    "collapsed": false
   },
   "source": [
    "4/ On va ajouter un timedelta aléatoire compris entre 3 et 20 jours en utilisant le package pandas pd.Timedelta(days=i). Le résultat est stocké dans exemple_date['date4']."
   ]
  },
  {
   "cell_type": "code",
   "execution_count": 19,
   "metadata": {
    "collapsed": false
   },
   "outputs": [
    {
     "data": {
      "text/plain": [
       "0   2018-05-19\n",
       "1   2018-01-17\n",
       "Name: date4, dtype: datetime64[ns]"
      ]
     },
     "execution_count": 19,
     "metadata": {
     },
     "output_type": "execute_result"
    }
   ],
   "source": [
    "import numpy as np\n",
    "np.random.seed(1998)\n",
    "import pandas as pd\n",
    "pd.Timedelta(days=np.random.randint(3,20))\n",
    "#exemple_date['date4'] = exemple_date['date4']\n",
    "exemple_date['date4'] = exemple_date['date2'].apply(lambda x:x+pd.Timedelta(days=np.random.randint(3,20)))\n",
    "exemple_date['date4'].head(2)"
   ]
  },
  {
   "cell_type": "markdown",
   "metadata": {
    "collapsed": false
   },
   "source": [
    "5/ On extrait le mois de exemple_date['date2'] de 2 façons différentes:"
   ]
  },
  {
   "cell_type": "code",
   "execution_count": 21,
   "metadata": {
    "collapsed": false
   },
   "outputs": [
    {
     "data": {
      "text/plain": [
       "0    5\n",
       "1    1\n",
       "Name: month1, dtype: int64"
      ]
     },
     "execution_count": 21,
     "metadata": {
     },
     "output_type": "execute_result"
    }
   ],
   "source": [
    "exemple_date['month1'] = exemple_date['date2'].dt.month\n",
    "exemple_date['month1'].head(2)"
   ]
  },
  {
   "cell_type": "code",
   "execution_count": 23,
   "metadata": {
    "collapsed": false
   },
   "outputs": [
    {
     "data": {
      "text/plain": [
       "0    5\n",
       "1    1\n",
       "Name: month2, dtype: int64"
      ]
     },
     "execution_count": 23,
     "metadata": {
     },
     "output_type": "execute_result"
    }
   ],
   "source": [
    "exemple_date['month2'] = exemple_date['date2'].apply(lambda x:x.month)\n",
    "exemple_date['month2'].head(2)"
   ]
  },
  {
   "cell_type": "markdown",
   "metadata": {
    "collapsed": false
   },
   "source": [
    "<h2>Exercice  à rendre (datetime)</h2><br>\n",
    "Le but de cet exercice est de manipuler des datetimes/date. On utilisera à la fois des fonctionnalité provenant du package datetime et des fonctionnalité provenant du package pandas. Les fonctionnalité du package datetime sont utilisées avec la logique apply /map. Il est conseillé de regrader les sites suivants:\n",
    " <ul>\n",
    "    <li><a href=\"https://docs.python.org/fr/3/library/datetime.html\">https://docs.python.org/fr/3/library/datetime.html </a></li>\n",
    "    <li><a href=\"https://pandas.pydata.org/pandas-docs/stable/reference/api/pandas.to_datetime.html\">https://docs.python.org/fr/3/library/datetime.html</a></li>\n",
    " </ul> \n",
    "\n"
   ]
  },
  {
   "cell_type": "markdown",
   "metadata": {
    "collapsed": false
   },
   "source": [
    "On décrit ci-dessous, les colonnes du dataframe DATADATE:\n",
    "* annee : variable numérique\n",
    "* mois : varaible numérique\n",
    "* jour : variable numérique\n",
    "\n",
    "Ces trois colonnes n'ont aucun rapport avec les autres.\n",
    "* datestring : variable de type string représantant une date\n",
    "* date_debut :variable de type datetime\n",
    "* date_fin : variable de type datetime (date_fin>date_debut)\n",
    "datestring n'a aucun lien avec les varaibles datestring et datestring"
   ]
  },
  {
   "cell_type": "markdown",
   "metadata": {
    "collapsed": false
   },
   "source": [
    "<h4>Executer la cellule ci-dessous permettant la création du dataframe</h4> "
   ]
  },
  {
   "cell_type": "code",
   "execution_count": 4,
   "metadata": {
    "collapsed": false
   },
   "outputs": [
    {
     "data": {
      "text/html": [
       "<div>\n",
       "<style scoped>\n",
       "    .dataframe tbody tr th:only-of-type {\n",
       "        vertical-align: middle;\n",
       "    }\n",
       "\n",
       "    .dataframe tbody tr th {\n",
       "        vertical-align: top;\n",
       "    }\n",
       "\n",
       "    .dataframe thead th {\n",
       "        text-align: right;\n",
       "    }\n",
       "</style>\n",
       "<table border=\"1\" class=\"dataframe\">\n",
       "  <thead>\n",
       "    <tr style=\"text-align: right;\">\n",
       "      <th></th>\n",
       "      <th>annee</th>\n",
       "      <th>mois</th>\n",
       "      <th>jour</th>\n",
       "      <th>datestring</th>\n",
       "      <th>date_debut</th>\n",
       "      <th>date_fin</th>\n",
       "      <th>VOLUM1</th>\n",
       "      <th>VOLUM2</th>\n",
       "    </tr>\n",
       "  </thead>\n",
       "  <tbody>\n",
       "    <tr>\n",
       "      <th>0</th>\n",
       "      <td>2018</td>\n",
       "      <td>11</td>\n",
       "      <td>3</td>\n",
       "      <td>Aug 23,2018</td>\n",
       "      <td>2018-08-11</td>\n",
       "      <td>2018-09-09</td>\n",
       "      <td>10</td>\n",
       "      <td>9</td>\n",
       "    </tr>\n",
       "    <tr>\n",
       "      <th>1</th>\n",
       "      <td>2015</td>\n",
       "      <td>7</td>\n",
       "      <td>5</td>\n",
       "      <td>Apr 13,2016</td>\n",
       "      <td>2015-02-05</td>\n",
       "      <td>2015-05-04</td>\n",
       "      <td>14</td>\n",
       "      <td>8</td>\n",
       "    </tr>\n",
       "    <tr>\n",
       "      <th>2</th>\n",
       "      <td>2016</td>\n",
       "      <td>3</td>\n",
       "      <td>6</td>\n",
       "      <td>Sep 07,2016</td>\n",
       "      <td>2017-07-22</td>\n",
       "      <td>2017-10-09</td>\n",
       "      <td>11</td>\n",
       "      <td>7</td>\n",
       "    </tr>\n",
       "  </tbody>\n",
       "</table>\n",
       "</div>"
      ],
      "text/plain": [
       "   annee  mois  jour   datestring date_debut   date_fin  VOLUM1  VOLUM2\n",
       "0   2018    11     3  Aug 23,2018 2018-08-11 2018-09-09      10       9\n",
       "1   2015     7     5  Apr 13,2016 2015-02-05 2015-05-04      14       8\n",
       "2   2016     3     6  Sep 07,2016 2017-07-22 2017-10-09      11       7"
      ]
     },
     "execution_count": 4,
     "metadata": {
     },
     "output_type": "execute_result"
    }
   ],
   "source": [
    "import numpy as np\n",
    "from datetime import datetime, timedelta\n",
    "import pandas as pd\n",
    "np.random.seed(2018)\n",
    "mois = np.random.randint(1,12,size=200,dtype=int)\n",
    "annee = np.random.randint(2015,2019,size=200,dtype=int)\n",
    "jour = np.random.randint(1,25,size=200,dtype=int)\n",
    "datestring = [datetime(np.random.randint(2015,2019,dtype=int),np.random.randint(1,12,dtype=int),np.random.randint(1,25,dtype=int)).strftime('%b %d,%Y') for o in range(0,200)]\n",
    "date_debut = [datetime(np.random.randint(2015,2019,dtype=int),np.random.randint(1,12,dtype=int),np.random.randint(1,25,dtype=int)) for o in range(0,200)]\n",
    "date_fin = [o+timedelta(days=np.random.randint(12,90,dtype=int)) for o in date_debut]\n",
    "VOLUM1 = np.random.randint(10,15,size=200)\n",
    "VOLUM2 = np.random.randint(6,10,size=200)\n",
    "\n",
    "DATADATE = pd.DataFrame({'annee':annee,'mois':mois,'jour':jour,'datestring':datestring,'date_debut':date_debut,'date_fin':date_fin,'VOLUM1':VOLUM1,'VOLUM2':VOLUM2})\n",
    "DATADATE.head(3)"
   ]
  },
  {
   "cell_type": "markdown",
   "metadata": {
    "collapsed": false
   },
   "source": [
    "1/ Construire une colonne DATADATE['datecreat'] à partir des colonnes DATADATE['annee'], DATADATE['mois'], DATADATE['jour']. On utilisera la fonction datetime du package datetime et la logique apply."
   ]
  },
  {
   "cell_type": "markdown",
   "metadata": {
    "collapsed": false
   },
   "source": [
    "2/ Créer la colonne DATADATE['dateconv'] de type datetime à partire de la colonne DATADATE['datestring']. Utiliser 2 méthodes"
   ]
  },
  {
   "cell_type": "markdown",
   "metadata": {
    "collapsed": false
   },
   "source": [
    "3/ Convertir la colonne DATADATE['date_debut'] en string. Le datetime '2018-08-23' doit être transformé en 'Thursday 23 August 2018'. Les résultats sont stockés dans DATADATE['date_debut_string']. "
   ]
  },
  {
   "cell_type": "markdown",
   "metadata": {
    "collapsed": false
   },
   "source": [
    "4/ Calculer le nombre de jour entre DATADATE['date_debut'] et DATADATE['date_fin']. Les résultats sont stoké dans DATADATE['date_diff'].\n",
    "Vous pouvez vous inspirer de ce site : http://www.datasciencemadesimple.com/difference-two-dates-days-weeks-months-years-pandas-python-2/"
   ]
  },
  {
   "cell_type": "markdown",
   "metadata": {
    "collapsed": false
   },
   "source": [
    "5/Calculer le nombre de jour entre DATADATE['date_debut'] et DATADATE['date_fin']. Les résultats sont stoké dans DATADATE['date_diff_bis']. Vous utiliserez la logique apply avec les méthode date() et toordinal()."
   ]
  },
  {
   "cell_type": "markdown",
   "metadata": {
    "collapsed": false
   },
   "source": [
    "6/ Calculer le nombre de samedi et dimanche entre DATADATE['date_fin'] et DATADATE['date_debut'].\n",
    "* Faire une fonction qui prend 2 datetime en entrée. Cette sort le nombre de samedi et dimanche\n",
    "* On utilisera toordinal, isocalendar(), fromordinal"
   ]
  },
  {
   "cell_type": "markdown",
   "metadata": {
    "collapsed": false
   },
   "source": [
    "7/ Calculer le nombre de semaine différente entre DATADATE['date_fin'] et DATADATE['date_debut']. Le résultat sera stocké dans DATADATE['nb_semaine']."
   ]
  },
  {
   "cell_type": "markdown",
   "metadata": {
    "collapsed": false
   },
   "source": [
    "8/ A l'aide d'un tableau croisé dynamique faire le tableau donnant la somme de VOLUM1 par année et jour de la date de début. Les année sont en ligne et les jours sont en colonne:<br>\n",
    "<table>\n",
    "    <tr><td>annee </td><td>lundi</td><td>mardi</td> </tr>\n",
    "    <tr><td>2015</td><td>60</td><td>60</td></tr>\n",
    "    <tr><td>2017</td><td>50</td><td>40</td></tr>\n",
    "</table>\n",
    "On utilisera la fonctionnalité pd.pivot_table : <a href=\"https://pandas.pydata.org/pandas-docs/stable/reference/api/pandas.DataFrame.pivot_table.html\">https://pandas.pydata.org/pandas-docs/stable/reference/api/pandas.DataFrame.pivot_table.html</a>"
   ]
  }
 ],
 "metadata": {
  "kernelspec": {
   "display_name": "Python 3 (Anaconda 5)",
   "env": {
    "LD_LIBRARY_PATH": "/ext/anaconda5/lib",
    "PROJ_LIB": "/ext/anaconda-2019.03/share/proj",
    "PYTHONHOME": "/ext/anaconda5/lib/python3.5",
    "PYTHONPATH": "/ext/anaconda5/lib/python3.5:/ext/anaconda5/lib/python3.5/site-packages"
   },
   "language": "python",
   "metadata": {
    "cocalc": {
     "description": "Python/R distribution for data science",
     "priority": -1,
     "url": "https://www.anaconda.com/distribution/"
    }
   },
   "name": "anaconda5"
  },
  "language_info": {
   "codemirror_mode": {
    "name": "ipython",
    "version": 3
   },
   "file_extension": ".py",
   "mimetype": "text/x-python",
   "name": "python",
   "nbconvert_exporter": "python",
   "pygments_lexer": "ipython3",
   "version": "3.6.7"
  }
 },
 "nbformat": 4,
 "nbformat_minor": 0
}