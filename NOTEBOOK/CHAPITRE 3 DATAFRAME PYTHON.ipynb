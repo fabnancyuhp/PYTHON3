{
 "cells": [
  {
   "cell_type": "markdown",
   "metadata": {
    "collapsed": false
   },
   "source": [
    "# Création de dataframe"
   ]
  },
  {
   "cell_type": "markdown",
   "metadata": {
    "collapsed": false
   },
   "source": [
    "Les dataframes python sont traités avec la librairie pandas. On peut créer des dataframes de plusieurs façon:\n",
    "* à partire d'un dictionnaire\n",
    "* à partir de liste\n",
    "* à partire d'un fichier json\n",
    "* à partire d'une matrice numpy.array\n",
    "* à partire d'une ou plusieurs séries pandas\n",
    "* à partir d'un ou plusieur dataframe pandas \n",
    "* à partire de fichier importé : fichier de type csv, excel, txt, json, page HTML (webscrapping), xml"
   ]
  },
  {
   "cell_type": "markdown",
   "metadata": {
    "collapsed": false
   },
   "source": [
    "Les dataframes python sont composés \n",
    "* d'un index perméttant d'identifier les lignes\n",
    "* d'un ensemble de colonnes\n",
    "* des données\n",
    "\n",
    "Chaque colonne d'un dataframe est un objet de type pandas.Series.  "
   ]
  },
  {
   "cell_type": "markdown",
   "metadata": {
    "collapsed": false
   },
   "source": [
    "### Exemple (création d'un dataframe à partir d'un dictionnaire)\n",
    "On va créer un dataframe à partir d'un dictionnaire. Ce dataframe sera le tableau suivant:<br>\n",
    "$$\\begin{array}{|c|c|c|c|}\n",
    "\\hline\n",
    "      & COL0 & COL1 & COL2\\\\\n",
    "\\hline\n",
    "id0 & voiture  & 16 &  52\\\\\n",
    "\\hline\n",
    "id1 & vélo  & 18  & 44\\\\\n",
    "\\hline\n",
    "id2 & moto &  24  & 23\\\\\n",
    "\\hline\n",
    "id3 & voiture & 44 & 11\\\\\n",
    "\\hline\n",
    "id4 & moto & 10 & 32\\\\\n",
    "\\hline\n",
    "id5 & vélo & 3 & 8\\\\\n",
    "\\hline\n",
    "\\end{array} $$\n",
    "<br>"
   ]
  },
  {
   "cell_type": "code",
   "execution_count": 19,
   "metadata": {
    "collapsed": true
   },
   "outputs": [
   ],
   "source": [
    "import pandas as pd\n",
    "Data1 = pd.DataFrame({'COL0':['voiture','vélo','moto','voiture','moto','vélo'],\n",
    "                      'COL1':[16,18,24,44,10,3],'COL2':[52,44,23,11,32,8]},\\\n",
    "                     index=['id0','id1','id2','id3','id4','id5'])\n"
   ]
  },
  {
   "cell_type": "code",
   "execution_count": 13,
   "metadata": {
    "collapsed": false
   },
   "outputs": [
    {
     "data": {
      "text/html": [
       "<div>\n",
       "<style>\n",
       "    .dataframe thead tr:only-child th {\n",
       "        text-align: right;\n",
       "    }\n",
       "\n",
       "    .dataframe thead th {\n",
       "        text-align: left;\n",
       "    }\n",
       "\n",
       "    .dataframe tbody tr th {\n",
       "        vertical-align: top;\n",
       "    }\n",
       "</style>\n",
       "<table border=\"1\" class=\"dataframe\">\n",
       "  <thead>\n",
       "    <tr style=\"text-align: right;\">\n",
       "      <th></th>\n",
       "      <th>COL0</th>\n",
       "      <th>COL1</th>\n",
       "      <th>COL2</th>\n",
       "    </tr>\n",
       "  </thead>\n",
       "  <tbody>\n",
       "    <tr>\n",
       "      <th>id0</th>\n",
       "      <td>voiture</td>\n",
       "      <td>16</td>\n",
       "      <td>52</td>\n",
       "    </tr>\n",
       "    <tr>\n",
       "      <th>id1</th>\n",
       "      <td>vélo</td>\n",
       "      <td>18</td>\n",
       "      <td>44</td>\n",
       "    </tr>\n",
       "    <tr>\n",
       "      <th>id2</th>\n",
       "      <td>moto</td>\n",
       "      <td>24</td>\n",
       "      <td>23</td>\n",
       "    </tr>\n",
       "    <tr>\n",
       "      <th>id3</th>\n",
       "      <td>voiture</td>\n",
       "      <td>44</td>\n",
       "      <td>11</td>\n",
       "    </tr>\n",
       "    <tr>\n",
       "      <th>id4</th>\n",
       "      <td>moto</td>\n",
       "      <td>10</td>\n",
       "      <td>32</td>\n",
       "    </tr>\n",
       "    <tr>\n",
       "      <th>id5</th>\n",
       "      <td>vélo</td>\n",
       "      <td>3</td>\n",
       "      <td>8</td>\n",
       "    </tr>\n",
       "  </tbody>\n",
       "</table>\n",
       "</div>"
      ],
      "text/plain": [
       "        COL0  COL1  COL2\n",
       "id0  voiture    16    52\n",
       "id1     vélo    18    44\n",
       "id2     moto    24    23\n",
       "id3  voiture    44    11\n",
       "id4     moto    10    32\n",
       "id5     vélo     3     8"
      ]
     },
     "execution_count": 13,
     "metadata": {
     },
     "output_type": "execute_result"
    }
   ],
   "source": [
    "Data1"
   ]
  },
  {
   "cell_type": "code",
   "execution_count": 14,
   "metadata": {
    "collapsed": false
   },
   "outputs": [
    {
     "data": {
      "text/plain": [
       "pandas.core.series.Series"
      ]
     },
     "execution_count": 14,
     "metadata": {
     },
     "output_type": "execute_result"
    }
   ],
   "source": [
    "type(Data1['COL0'])"
   ]
  },
  {
   "cell_type": "markdown",
   "metadata": {
    "collapsed": false
   },
   "source": [
    "### Exemple (création d'un dataframe à partir d'une liste)\n",
    "On va créer un dataframe à partir d'une liste de liste. Ce dataframe sera le tableau suivant:<br>\n",
    "$$\\begin{array}{|c|c|c|c|c|}\n",
    "\\hline\n",
    "      & COL0 & COL1 & COL2 & COL3\\\\\n",
    "\\hline\n",
    "l0 & Paris  & 16 &  52 & 55\\\\\n",
    "\\hline\n",
    "l1 & Grenoble  & 18  & 44 & 11\\\\\n",
    "\\hline\n",
    "l2 & Nancy &  24  & 23 & 44\\\\\n",
    "\\hline\n",
    "l3 & Dijon & 44 & 11 & 12\\\\\n",
    "\\hline\n",
    "l4 & Grenoble & 10 & 32 & 71\\\\\n",
    "\\hline\n",
    "\\end{array} $$\n",
    "<br>"
   ]
  },
  {
   "cell_type": "code",
   "execution_count": 8,
   "metadata": {
    "collapsed": false
   },
   "outputs": [
    {
     "data": {
      "text/html": [
       "<div>\n",
       "<style>\n",
       "    .dataframe thead tr:only-child th {\n",
       "        text-align: right;\n",
       "    }\n",
       "\n",
       "    .dataframe thead th {\n",
       "        text-align: left;\n",
       "    }\n",
       "\n",
       "    .dataframe tbody tr th {\n",
       "        vertical-align: top;\n",
       "    }\n",
       "</style>\n",
       "<table border=\"1\" class=\"dataframe\">\n",
       "  <thead>\n",
       "    <tr style=\"text-align: right;\">\n",
       "      <th></th>\n",
       "      <th>COL0</th>\n",
       "      <th>COL1</th>\n",
       "      <th>COL2</th>\n",
       "      <th>COL3</th>\n",
       "    </tr>\n",
       "  </thead>\n",
       "  <tbody>\n",
       "    <tr>\n",
       "      <th>l0</th>\n",
       "      <td>Paris</td>\n",
       "      <td>16</td>\n",
       "      <td>52</td>\n",
       "      <td>55</td>\n",
       "    </tr>\n",
       "    <tr>\n",
       "      <th>l1</th>\n",
       "      <td>Grenoble</td>\n",
       "      <td>18</td>\n",
       "      <td>44</td>\n",
       "      <td>11</td>\n",
       "    </tr>\n",
       "  </tbody>\n",
       "</table>\n",
       "</div>"
      ],
      "text/plain": [
       "        COL0  COL1  COL2  COL3\n",
       "l0     Paris    16    52    55\n",
       "l1  Grenoble    18    44    11"
      ]
     },
     "execution_count": 8,
     "metadata": {
     },
     "output_type": "execute_result"
    }
   ],
   "source": [
    "import pandas as pd\n",
    "Data2 = pd.DataFrame([['Paris',16,52,55],['Grenoble',18,44,11],['Nancy',24,23,44],\\\n",
    "                      ['Grenoble',10,32,71]],\\\n",
    "                     columns=['COL0','COL1','COL2','COL3'],index=['l0','l1','l2','l3'])\n",
    "Data2.head(2)"
   ]
  },
  {
   "cell_type": "markdown",
   "metadata": {
    "collapsed": false
   },
   "source": [
    "### Exemple (création d'un dataframe à partir d'un ensemble de série pandas)\n",
    "On reprend le dataframe précédent. On va créer un dataframe en concaténant 4 series pandas:"
   ]
  },
  {
   "cell_type": "code",
   "execution_count": 7,
   "metadata": {
    "collapsed": true
   },
   "outputs": [
   ],
   "source": [
    "import pandas as pd\n",
    "\n",
    "S0 = pd.Series(['Paris', 'Grenoble','Nancy','Dijon','Grenoble'], \\\n",
    "               index=['l0', 'l1','l2','l3','l4'], name='COL0')\n",
    "S1 = pd.Series([16, 18,24,44,10], index=['l0', 'l1','l2','l3','l4'], name='COL1')\n",
    "S2 = pd.Series([52, 44,23,11,32], index=['l0', 'l1','l2','l3','l4'], name='COL2')\n",
    "S3 = pd.Series([55, 11,44,12,72], index=['l0', 'l1','l2','l3','l4'], name='COL3')\n",
    "Data3 = pd.concat([S0,S1,S2,S3],axis=1)"
   ]
  },
  {
   "cell_type": "markdown",
   "metadata": {
    "collapsed": false
   },
   "source": [
    "### Exemple (création d'un dataframe à partir d'un np.array)"
   ]
  },
  {
   "cell_type": "code",
   "execution_count": 10,
   "metadata": {
    "collapsed": false
   },
   "outputs": [
    {
     "data": {
      "text/html": [
       "<div>\n",
       "<style>\n",
       "    .dataframe thead tr:only-child th {\n",
       "        text-align: right;\n",
       "    }\n",
       "\n",
       "    .dataframe thead th {\n",
       "        text-align: left;\n",
       "    }\n",
       "\n",
       "    .dataframe tbody tr th {\n",
       "        vertical-align: top;\n",
       "    }\n",
       "</style>\n",
       "<table border=\"1\" class=\"dataframe\">\n",
       "  <thead>\n",
       "    <tr style=\"text-align: right;\">\n",
       "      <th></th>\n",
       "      <th>A</th>\n",
       "      <th>B</th>\n",
       "      <th>C</th>\n",
       "      <th>D</th>\n",
       "    </tr>\n",
       "  </thead>\n",
       "  <tbody>\n",
       "    <tr>\n",
       "      <th>a1</th>\n",
       "      <td>1.1</td>\n",
       "      <td>2.0</td>\n",
       "      <td>3.3</td>\n",
       "      <td>4.0</td>\n",
       "    </tr>\n",
       "    <tr>\n",
       "      <th>a2</th>\n",
       "      <td>2.7</td>\n",
       "      <td>10.0</td>\n",
       "      <td>5.4</td>\n",
       "      <td>7.0</td>\n",
       "    </tr>\n",
       "  </tbody>\n",
       "</table>\n",
       "</div>"
      ],
      "text/plain": [
       "      A     B    C    D\n",
       "a1  1.1   2.0  3.3  4.0\n",
       "a2  2.7  10.0  5.4  7.0"
      ]
     },
     "execution_count": 10,
     "metadata": {
     },
     "output_type": "execute_result"
    }
   ],
   "source": [
    "import numpy as np\n",
    "ar = np.array([[1.1, 2, 3.3, 4], [2.7, 10, 5.4, 7], [5.3, 9, 1.5, 15]])\n",
    "df = pd.DataFrame(ar, index = ['a1', 'a2', 'a3'], columns = ['A', 'B', 'C', 'D'])\n",
    "df.head(2)"
   ]
  },
  {
   "cell_type": "markdown",
   "metadata": {
    "collapsed": false
   },
   "source": [
    "### Exercice\n",
    "Créer le dataframe suivant de de 2 ou 3 manières différentes.<br>\n",
    "$$\\begin{array}{|c|c|c|c|}\n",
    "\\hline\n",
    "      & Classe1 & Classe2 & Classe3 & classe4\\\\\n",
    "\\hline\n",
    "machine learning & 10  & 9 &  4 & 8\\\\\n",
    "\\hline\n",
    "stochastic integral & 15  & 15  & 9 & 4\\\\\n",
    "\\hline\n",
    "python & 20 &  24  & 23 & 16\\\\\n",
    "\\hline\n",
    "\\LaTeX & 6 & 44 & 11 & 44\\\\\n",
    "\\hline\n",
    "c++ & 12 & 10 & 32 & 11\\\\\n",
    "\\hline\n",
    "\\end{array} $$\n",
    "<br>"
   ]
  },
  {
   "cell_type": "markdown",
   "metadata": {
    "collapsed": false
   },
   "source": [
    "# Colone, index, ligne, dimension, filtre"
   ]
  },
  {
   "cell_type": "markdown",
   "metadata": {
    "collapsed": false
   },
   "source": [
    "Dans cette section on montre comment trouver le nom de \n",
    "* colonne,...\n",
    "* lignes"
   ]
  },
  {
   "cell_type": "markdown",
   "metadata": {
    "collapsed": false
   },
   "source": [
    "Nous donnons dans le tableau quelques attributs des dataframes:<br><br>\n",
    "<table border=\"1\" >\n",
    "<tr>\n",
    " <td>columns</td> <td>The column labels of the DataFrame. </td>\n",
    "</tr>\n",
    "<tr>\n",
    " <td>index</td> <td>The index (row labels) of the DataFrame.   </td>\n",
    "</tr>\n",
    "<tr>\n",
    " <td>shape </td>  <td>Return a tuple representing the dimensionality of the DataFrame.  </td>\n",
    "</tr>\n",
    "<tr>\n",
    " <td>dtypes </td> <td>Return the dtypes in the DataFrame.  </td>\n",
    "</tr>\n",
    "<tr>\n",
    " <td>iloc</td> \t<td>Purely integer-location based indexing for selection by position.</td>\n",
    "</tr>\n",
    "<tr>\n",
    " <td>loc</td> \t<td>Access a group of rows and columns by label(s) or a boolean array.</td>\n",
    "</tr>\n",
    "<tr>\n",
    " <td>values </td>\t<td>Return a Numpy representation of the DataFrame.</td>\n",
    "</tr>\n",
    "</table>"
   ]
  },
  {
   "cell_type": "markdown",
   "metadata": {
    "collapsed": false
   },
   "source": [
    "### Exemple \n",
    "* 1) Déterminer le nom des colonnes de Data3\n",
    "* 2) Déterminer l'index de Data3 \n",
    "* 3) Extraire la ligne 3 de deux manière différentes\n",
    "* 4) Déterminer les dimensions de Data3\n",
    "* 5) Créer un dataframe Data3bis en filtrant sur les lignes de Data3 ayant COL1>10 et COL2>11.\n",
    "* 6) Créer un dataframe Data3bis_comp complémentaire de Data3bis\n",
    "* 7) Créer un dataframe Data3tier en filtrant sur les lignes de Data3 ayant COL0 égale à Nancy ou Dijon. "
   ]
  },
  {
   "cell_type": "code",
   "execution_count": 3,
   "metadata": {
    "collapsed": false
   },
   "outputs": [
    {
     "data": {
      "text/html": [
       "<div>\n",
       "<style>\n",
       "    .dataframe thead tr:only-child th {\n",
       "        text-align: right;\n",
       "    }\n",
       "\n",
       "    .dataframe thead th {\n",
       "        text-align: left;\n",
       "    }\n",
       "\n",
       "    .dataframe tbody tr th {\n",
       "        vertical-align: top;\n",
       "    }\n",
       "</style>\n",
       "<table border=\"1\" class=\"dataframe\">\n",
       "  <thead>\n",
       "    <tr style=\"text-align: right;\">\n",
       "      <th></th>\n",
       "      <th>COL0</th>\n",
       "      <th>COL1</th>\n",
       "      <th>COL2</th>\n",
       "      <th>COL3</th>\n",
       "    </tr>\n",
       "  </thead>\n",
       "  <tbody>\n",
       "    <tr>\n",
       "      <th>l0</th>\n",
       "      <td>Paris</td>\n",
       "      <td>16</td>\n",
       "      <td>52</td>\n",
       "      <td>55</td>\n",
       "    </tr>\n",
       "    <tr>\n",
       "      <th>l1</th>\n",
       "      <td>Grenoble</td>\n",
       "      <td>18</td>\n",
       "      <td>44</td>\n",
       "      <td>11</td>\n",
       "    </tr>\n",
       "    <tr>\n",
       "      <th>l2</th>\n",
       "      <td>Nancy</td>\n",
       "      <td>24</td>\n",
       "      <td>23</td>\n",
       "      <td>44</td>\n",
       "    </tr>\n",
       "    <tr>\n",
       "      <th>l3</th>\n",
       "      <td>Dijon</td>\n",
       "      <td>44</td>\n",
       "      <td>11</td>\n",
       "      <td>12</td>\n",
       "    </tr>\n",
       "    <tr>\n",
       "      <th>l4</th>\n",
       "      <td>Grenoble</td>\n",
       "      <td>10</td>\n",
       "      <td>32</td>\n",
       "      <td>72</td>\n",
       "    </tr>\n",
       "  </tbody>\n",
       "</table>\n",
       "</div>"
      ],
      "text/plain": [
       "        COL0  COL1  COL2  COL3\n",
       "l0     Paris    16    52    55\n",
       "l1  Grenoble    18    44    11\n",
       "l2     Nancy    24    23    44\n",
       "l3     Dijon    44    11    12\n",
       "l4  Grenoble    10    32    72"
      ]
     },
     "execution_count": 3,
     "metadata": {
     },
     "output_type": "execute_result"
    }
   ],
   "source": [
    "import pandas as pd\n",
    "\n",
    "S0 = pd.Series(['Paris', 'Grenoble','Nancy','Dijon','Grenoble'], \\\n",
    "               index=['l0', 'l1','l2','l3','l4'], name='COL0')\n",
    "S1 = pd.Series([16, 18,24,44,10], index=['l0', 'l1','l2','l3','l4'], name='COL1')\n",
    "S2 = pd.Series([52, 44,23,11,32], index=['l0', 'l1','l2','l3','l4'], name='COL2')\n",
    "S3 = pd.Series([55, 11,44,12,72], index=['l0', 'l1','l2','l3','l4'], name='COL3')\n",
    "Data3 = pd.concat([S0,S1,S2,S3],axis=1)\n",
    "Data3"
   ]
  },
  {
   "cell_type": "markdown",
   "metadata": {
    "collapsed": false
   },
   "source": [
    "1) On détermine le nom des colonnes du dataframe que l'on stocke dans l'objet DATA3_COL "
   ]
  },
  {
   "cell_type": "code",
   "execution_count": 8,
   "metadata": {
    "collapsed": false
   },
   "outputs": [
    {
     "data": {
      "text/plain": [
       "Index(['COL0', 'COL1', 'COL2', 'COL3'], dtype='object')"
      ]
     },
     "execution_count": 8,
     "metadata": {
     },
     "output_type": "execute_result"
    }
   ],
   "source": [
    "DATA3_COL = Data3.columns\n",
    "DATA3_COL"
   ]
  },
  {
   "cell_type": "markdown",
   "metadata": {
    "collapsed": false
   },
   "source": [
    "2) On détermine l'index du dataframe Data3. L'index représente les lignes d'un dataframe "
   ]
  },
  {
   "cell_type": "code",
   "execution_count": 10,
   "metadata": {
    "collapsed": false
   },
   "outputs": [
    {
     "data": {
      "text/plain": [
       "Index(['l0', 'l1', 'l2', 'l3', 'l4'], dtype='object')"
      ]
     },
     "execution_count": 10,
     "metadata": {
     },
     "output_type": "execute_result"
    }
   ],
   "source": [
    "DATA3_ROW = Data3.index\n",
    "DATA3_ROW"
   ]
  },
  {
   "cell_type": "markdown",
   "metadata": {
    "collapsed": false
   },
   "source": [
    "3) On extrait la ligne 3 de Data3 de deux façons différentes.<br>"
   ]
  },
  {
   "cell_type": "code",
   "execution_count": 14,
   "metadata": {
    "collapsed": false
   },
   "outputs": [
    {
     "data": {
      "text/plain": [
       "array(['Dijon', 44, 11, 12], dtype=object)"
      ]
     },
     "execution_count": 14,
     "metadata": {
     },
     "output_type": "execute_result"
    }
   ],
   "source": [
    "#première méthode\n",
    "Data3.loc['l3'].values"
   ]
  },
  {
   "cell_type": "code",
   "execution_count": 13,
   "metadata": {
    "collapsed": false
   },
   "outputs": [
    {
     "data": {
      "text/plain": [
       "array(['Dijon', 44, 11, 12], dtype=object)"
      ]
     },
     "execution_count": 13,
     "metadata": {
     },
     "output_type": "execute_result"
    }
   ],
   "source": [
    "#deuxième façon\n",
    "Data3.iloc[3,:].values"
   ]
  },
  {
   "cell_type": "markdown",
   "metadata": {
    "collapsed": false
   },
   "source": [
    "4) On détermine les dimensions de Data3 "
   ]
  },
  {
   "cell_type": "code",
   "execution_count": 19,
   "metadata": {
    "collapsed": false
   },
   "outputs": [
    {
     "name": "stdout",
     "output_type": "stream",
     "text": [
      "(5, 4)\n",
      "nombre de ligne:5\n",
      "nombre de colonne:4\n"
     ]
    }
   ],
   "source": [
    "dim = Data3.shape\n",
    "print(str(dim))\n",
    "nb_ligne = dim[0]\n",
    "nb_col = dim[1]\n",
    "\n",
    "print(\"nombre de ligne:\" + str(nb_ligne))\n",
    "print(\"nombre de colonne:\" + str(nb_col))"
   ]
  },
  {
   "cell_type": "markdown",
   "metadata": {
    "collapsed": false
   },
   "source": [
    "5) On crée un dataframe Data3bis en filtrant sur les lignes tel que COL1>10 et COL2>11"
   ]
  },
  {
   "cell_type": "code",
   "execution_count": 25,
   "metadata": {
    "collapsed": false
   },
   "outputs": [
    {
     "data": {
      "text/html": [
       "<div>\n",
       "<style>\n",
       "    .dataframe thead tr:only-child th {\n",
       "        text-align: right;\n",
       "    }\n",
       "\n",
       "    .dataframe thead th {\n",
       "        text-align: left;\n",
       "    }\n",
       "\n",
       "    .dataframe tbody tr th {\n",
       "        vertical-align: top;\n",
       "    }\n",
       "</style>\n",
       "<table border=\"1\" class=\"dataframe\">\n",
       "  <thead>\n",
       "    <tr style=\"text-align: right;\">\n",
       "      <th></th>\n",
       "      <th>COL0</th>\n",
       "      <th>COL1</th>\n",
       "      <th>COL2</th>\n",
       "      <th>COL3</th>\n",
       "    </tr>\n",
       "  </thead>\n",
       "  <tbody>\n",
       "    <tr>\n",
       "      <th>l0</th>\n",
       "      <td>Paris</td>\n",
       "      <td>16</td>\n",
       "      <td>52</td>\n",
       "      <td>55</td>\n",
       "    </tr>\n",
       "    <tr>\n",
       "      <th>l1</th>\n",
       "      <td>Grenoble</td>\n",
       "      <td>18</td>\n",
       "      <td>44</td>\n",
       "      <td>11</td>\n",
       "    </tr>\n",
       "    <tr>\n",
       "      <th>l2</th>\n",
       "      <td>Nancy</td>\n",
       "      <td>24</td>\n",
       "      <td>23</td>\n",
       "      <td>44</td>\n",
       "    </tr>\n",
       "  </tbody>\n",
       "</table>\n",
       "</div>"
      ],
      "text/plain": [
       "        COL0  COL1  COL2  COL3\n",
       "l0     Paris    16    52    55\n",
       "l1  Grenoble    18    44    11\n",
       "l2     Nancy    24    23    44"
      ]
     },
     "execution_count": 25,
     "metadata": {
     },
     "output_type": "execute_result"
    }
   ],
   "source": [
    "Data3bis = Data3.loc[(Data3['COL1']>10) & (Data3['COL2']>11)]\n",
    "Data3bis"
   ]
  },
  {
   "cell_type": "markdown",
   "metadata": {
    "collapsed": false
   },
   "source": [
    "6) On crée un dataframe Data3bis_comp complémentaire de Data3bis"
   ]
  },
  {
   "cell_type": "code",
   "execution_count": 27,
   "metadata": {
    "collapsed": false
   },
   "outputs": [
    {
     "data": {
      "text/html": [
       "<div>\n",
       "<style>\n",
       "    .dataframe thead tr:only-child th {\n",
       "        text-align: right;\n",
       "    }\n",
       "\n",
       "    .dataframe thead th {\n",
       "        text-align: left;\n",
       "    }\n",
       "\n",
       "    .dataframe tbody tr th {\n",
       "        vertical-align: top;\n",
       "    }\n",
       "</style>\n",
       "<table border=\"1\" class=\"dataframe\">\n",
       "  <thead>\n",
       "    <tr style=\"text-align: right;\">\n",
       "      <th></th>\n",
       "      <th>COL0</th>\n",
       "      <th>COL1</th>\n",
       "      <th>COL2</th>\n",
       "      <th>COL3</th>\n",
       "    </tr>\n",
       "  </thead>\n",
       "  <tbody>\n",
       "    <tr>\n",
       "      <th>l3</th>\n",
       "      <td>Dijon</td>\n",
       "      <td>44</td>\n",
       "      <td>11</td>\n",
       "      <td>12</td>\n",
       "    </tr>\n",
       "    <tr>\n",
       "      <th>l4</th>\n",
       "      <td>Grenoble</td>\n",
       "      <td>10</td>\n",
       "      <td>32</td>\n",
       "      <td>72</td>\n",
       "    </tr>\n",
       "  </tbody>\n",
       "</table>\n",
       "</div>"
      ],
      "text/plain": [
       "        COL0  COL1  COL2  COL3\n",
       "l3     Dijon    44    11    12\n",
       "l4  Grenoble    10    32    72"
      ]
     },
     "execution_count": 27,
     "metadata": {
     },
     "output_type": "execute_result"
    }
   ],
   "source": [
    "Data3bis_comp = Data3.loc[~((Data3['COL1']>10) & (Data3['COL2']>11))]\n",
    "Data3bis_comp"
   ]
  },
  {
   "cell_type": "markdown",
   "metadata": {
    "collapsed": false
   },
   "source": [
    "7) On crée un dataframe Data3tier en filtrant sur les lignes de Data3 tel que COL0 soit égale à Nancy ou Dijon. "
   ]
  },
  {
   "cell_type": "code",
   "execution_count": 29,
   "metadata": {
    "collapsed": true
   },
   "outputs": [
   ],
   "source": [
    "Data3tier = Data3.loc[Data3['COL0'].isin(['Nancy','Dijon'])]"
   ]
  },
  {
   "cell_type": "markdown",
   "metadata": {
    "collapsed": false
   },
   "source": [
    "### Exercice\n",
    "* 1) Déterminer le nom des colonnes du dataframe data_house\n",
    "* 2) Déterminer l'index du datframe data_house\n",
    "* 3) Extraire la ligne 100 de deux façons\n",
    "* 4) Trouver le nombre de lignes que telle data_house['CRIM']>3.6 et data_house['AGE']>68.\n",
    "* 5) Changer l'index de data_house. Cet index doit être comme cela : ['l0', 'l1', 'l2', 'l3', 'l4', 'l5', 'l6', 'l7', 'l8', 'l9',...,'l501', 'l502', 'l503', 'l504','l505']. Extraire la ligne 200"
   ]
  },
  {
   "cell_type": "markdown",
   "metadata": {
    "collapsed": true
   },
   "source": [
    "Construction du dataframe data_house."
   ]
  },
  {
   "cell_type": "code",
   "execution_count": 58,
   "metadata": {
    "collapsed": true
   },
   "outputs": [
   ],
   "source": [
    "import numpy as np\n",
    "import pandas as pd\n",
    "\n",
    "from sklearn.datasets import load_boston\n",
    "data_build = load_boston()\n",
    "#print(data_build.feature_names)\n",
    "#print(data_build.DESCR)\n",
    "\n",
    "datavect=np.concatenate((data_build.data,data_build.target.reshape(506,1)),axis=1)\n",
    "name_v=list(data_build.feature_names)+['MEDV']\n",
    "\n",
    "data_house = pd.DataFrame(datavect,columns=name_v)"
   ]
  },
  {
   "cell_type": "markdown",
   "metadata": {
    "collapsed": false
   },
   "source": [
    "# Création colonne, fonction"
   ]
  },
  {
   "cell_type": "markdown",
   "metadata": {
    "collapsed": false
   },
   "source": [
    "http://queirozf.com/entries/pandas-dataframe-by-example <br>\n",
    "\n",
    "https://support.spatialkey.com/spatialkey-sample-csv-data/<br>"
   ]
  },
  {
   "cell_type": "code",
   "execution_count": 1,
   "metadata": {
    "collapsed": true
   },
   "outputs": [
   ],
   "source": [
    "import pandas as pd\n",
    "import numpy as np\n",
    "Data1 = pd.DataFrame({'COL0':['voiture','vélo','moto','voiture','moto','vélo'],\n",
    "                      'COL1':[16,18,24,44,10,3],'COL2':[52,44,23,11,32,8],\\\n",
    "                     'COL3':[np.pi,2*np.pi,1.5*np.pi,1.2*np.pi,5.7*np.pi,8.14*np.pi]},\\\n",
    "                     index=['id0','id1','id2','id3','id4','id5'])"
   ]
  },
  {
   "cell_type": "markdown",
   "metadata": {
    "collapsed": false
   },
   "source": [
    "### Exemple\n",
    "On créer une colonne Data1['new1'] qui est la somme de Data1['COL1']+Data1['COL3']:"
   ]
  },
  {
   "cell_type": "code",
   "execution_count": 75,
   "metadata": {
    "collapsed": false
   },
   "outputs": [
    {
     "data": {
      "text/html": [
       "<div>\n",
       "<style>\n",
       "    .dataframe thead tr:only-child th {\n",
       "        text-align: right;\n",
       "    }\n",
       "\n",
       "    .dataframe thead th {\n",
       "        text-align: left;\n",
       "    }\n",
       "\n",
       "    .dataframe tbody tr th {\n",
       "        vertical-align: top;\n",
       "    }\n",
       "</style>\n",
       "<table border=\"1\" class=\"dataframe\">\n",
       "  <thead>\n",
       "    <tr style=\"text-align: right;\">\n",
       "      <th></th>\n",
       "      <th>COL0</th>\n",
       "      <th>COL1</th>\n",
       "      <th>COL2</th>\n",
       "      <th>COL3</th>\n",
       "      <th>new1</th>\n",
       "    </tr>\n",
       "  </thead>\n",
       "  <tbody>\n",
       "    <tr>\n",
       "      <th>id0</th>\n",
       "      <td>voiture</td>\n",
       "      <td>16</td>\n",
       "      <td>52</td>\n",
       "      <td>3.141593</td>\n",
       "      <td>19.141593</td>\n",
       "    </tr>\n",
       "    <tr>\n",
       "      <th>id1</th>\n",
       "      <td>vélo</td>\n",
       "      <td>18</td>\n",
       "      <td>44</td>\n",
       "      <td>6.283185</td>\n",
       "      <td>24.283185</td>\n",
       "    </tr>\n",
       "    <tr>\n",
       "      <th>id2</th>\n",
       "      <td>moto</td>\n",
       "      <td>24</td>\n",
       "      <td>23</td>\n",
       "      <td>4.712389</td>\n",
       "      <td>28.712389</td>\n",
       "    </tr>\n",
       "  </tbody>\n",
       "</table>\n",
       "</div>"
      ],
      "text/plain": [
       "        COL0  COL1  COL2      COL3       new1\n",
       "id0  voiture    16    52  3.141593  19.141593\n",
       "id1     vélo    18    44  6.283185  24.283185\n",
       "id2     moto    24    23  4.712389  28.712389"
      ]
     },
     "execution_count": 75,
     "metadata": {
     },
     "output_type": "execute_result"
    }
   ],
   "source": [
    "Data1['new1'] = Data1['COL1'] + Data1['COL3'] \n",
    "Data1.head(3)"
   ]
  },
  {
   "cell_type": "markdown",
   "metadata": {
    "collapsed": false
   },
   "source": [
    "### Exemple\n",
    "On créer une colonne Data1['COS'] qui est le cosinus de Data1['COL3']. On va devoir utiliser la fonction cos du package numpy."
   ]
  },
  {
   "cell_type": "code",
   "execution_count": 82,
   "metadata": {
    "collapsed": false
   },
   "outputs": [
    {
     "data": {
      "text/plain": [
       "id0     -1.0\n",
       "id1      1.0\n",
       "id2    -1.83\n",
       "id3    -0.80\n",
       "id4    0.587\n",
       "id5    0.904\n",
       "Name: COS, dtype: object"
      ]
     },
     "execution_count": 82,
     "metadata": {
     },
     "output_type": "execute_result"
    }
   ],
   "source": [
    "import numpy as np\n",
    "Data1['COS'] = np.cos(Data1['COL3'])\n",
    "Data1['COS'].astype(str)"
   ]
  },
  {
   "cell_type": "markdown",
   "metadata": {
    "collapsed": false
   },
   "source": [
    "### Exemple\n",
    "On créer une colonne Data1['MAX'] qui est le maximum des colonnes Data1['COL1'], Data1['COL2'], Data1['COL3']. Vous remarquerez l'emploi de axis=1 dans la fonction max."
   ]
  },
  {
   "cell_type": "code",
   "execution_count": 85,
   "metadata": {
    "collapsed": false
   },
   "outputs": [
    {
     "data": {
      "text/html": [
       "<div>\n",
       "<style>\n",
       "    .dataframe thead tr:only-child th {\n",
       "        text-align: right;\n",
       "    }\n",
       "\n",
       "    .dataframe thead th {\n",
       "        text-align: left;\n",
       "    }\n",
       "\n",
       "    .dataframe tbody tr th {\n",
       "        vertical-align: top;\n",
       "    }\n",
       "</style>\n",
       "<table border=\"1\" class=\"dataframe\">\n",
       "  <thead>\n",
       "    <tr style=\"text-align: right;\">\n",
       "      <th></th>\n",
       "      <th>COL0</th>\n",
       "      <th>COL1</th>\n",
       "      <th>COL2</th>\n",
       "      <th>COL3</th>\n",
       "      <th>new1</th>\n",
       "      <th>COS</th>\n",
       "      <th>MAX</th>\n",
       "    </tr>\n",
       "  </thead>\n",
       "  <tbody>\n",
       "    <tr>\n",
       "      <th>id0</th>\n",
       "      <td>voiture</td>\n",
       "      <td>16</td>\n",
       "      <td>52</td>\n",
       "      <td>3.141593</td>\n",
       "      <td>19.141593</td>\n",
       "      <td>-1.000000e+00</td>\n",
       "      <td>52.0</td>\n",
       "    </tr>\n",
       "    <tr>\n",
       "      <th>id1</th>\n",
       "      <td>vélo</td>\n",
       "      <td>18</td>\n",
       "      <td>44</td>\n",
       "      <td>6.283185</td>\n",
       "      <td>24.283185</td>\n",
       "      <td>1.000000e+00</td>\n",
       "      <td>44.0</td>\n",
       "    </tr>\n",
       "    <tr>\n",
       "      <th>id2</th>\n",
       "      <td>moto</td>\n",
       "      <td>24</td>\n",
       "      <td>23</td>\n",
       "      <td>4.712389</td>\n",
       "      <td>28.712389</td>\n",
       "      <td>-1.836970e-16</td>\n",
       "      <td>24.0</td>\n",
       "    </tr>\n",
       "  </tbody>\n",
       "</table>\n",
       "</div>"
      ],
      "text/plain": [
       "        COL0  COL1  COL2      COL3       new1           COS   MAX\n",
       "id0  voiture    16    52  3.141593  19.141593 -1.000000e+00  52.0\n",
       "id1     vélo    18    44  6.283185  24.283185  1.000000e+00  44.0\n",
       "id2     moto    24    23  4.712389  28.712389 -1.836970e-16  24.0"
      ]
     },
     "execution_count": 85,
     "metadata": {
     },
     "output_type": "execute_result"
    }
   ],
   "source": [
    "Data1['MAX'] = Data1[['COL1','COL2','COL3']].max(axis=1)\n",
    "Data1.head(3)"
   ]
  },
  {
   "cell_type": "markdown",
   "metadata": {
    "collapsed": false
   },
   "source": [
    "### Exemple\n",
    "On créer un dataframe MAXIM dont la seule colonne est 'MAX'. Cette colonne est le maximum des colonnes Data1['COL1'], Data1['COL2'], Data1['COL3']. "
   ]
  },
  {
   "cell_type": "code",
   "execution_count": 95,
   "metadata": {
    "collapsed": true
   },
   "outputs": [
   ],
   "source": [
    "MAXIM = pd.DataFrame(Data1[['COL1','COL2','COL3']].max(axis=1),columns=['MAX'])\n",
    "#MAXIM"
   ]
  },
  {
   "cell_type": "markdown",
   "metadata": {
    "collapsed": false
   },
   "source": [
    "### Exemple\n",
    "On créer une colonne Data1['EXTRACT'] qui est l'extraction des 3 premiers caractères de Data1['COL0']."
   ]
  },
  {
   "cell_type": "code",
   "execution_count": 6,
   "metadata": {
    "collapsed": false
   },
   "outputs": [
    {
     "data": {
      "text/plain": [
       "id0    voi\n",
       "id1    vél\n",
       "id2    mot\n",
       "id3    voi\n",
       "id4    mot\n",
       "id5    vél\n",
       "Name: EXTRACT, dtype: object"
      ]
     },
     "execution_count": 6,
     "metadata": {
     },
     "output_type": "execute_result"
    }
   ],
   "source": [
    "Data1['EXTRACT'] = Data1['COL0'].str[0:3]\n",
    "Data1['EXTRACT']"
   ]
  },
  {
   "cell_type": "markdown",
   "metadata": {
    "collapsed": false
   },
   "source": [
    "### Exercice\n",
    "Le but de l'exercice est d'ajouter des colonnes au dataframe Datasim1 que l'on crée ci-dessous.<br>\n",
    "1) Créer une colonne Datasim1['EXTRA'] qui est l'extraction des 2 premiers caractères de colonne  Datasim1['provenance']<br>\n",
    "2) Créer une colonne Datasim1['MED'] qui est la médianne des variables Datasim1['var1'], Datasim1['var2'] et Datasim1['var3'].<br>\n",
    "3) Créer une colonne Datasim1['SINUS'] qui est le sinus de la colonne Datasim1['var3'].  "
   ]
  },
  {
   "cell_type": "code",
   "execution_count": 1,
   "metadata": {
    "collapsed": true
   },
   "outputs": [
   ],
   "source": [
    "from scipy.stats import norm\n",
    "from numpy.random import randint, seed\n",
    "import numpy as np\n",
    "import pandas as pd\n",
    "seed(seed=1998)\n",
    "\n",
    "CLASSE = ['group1','group2','group3']\n",
    "PROVE = ['PREPA','UNIV']\n",
    "\n",
    "Datasim1 = {'group':[CLASSE[randint(0,3)] for i in range(0,20)],\\\n",
    "            'provenance':[PROVE[randint(0,2)]for i in range(0,20)],\\\n",
    "           'var1':norm.rvs(loc=10,scale=2,size=20),'var2':norm.rvs(loc=11,scale=3,size=20),\\\n",
    "            'var3':norm.rvs(loc=11,scale=3,size=20)}\n",
    "\n",
    "Datasim1 = pd.DataFrame(Datasim1)"
   ]
  },
  {
   "cell_type": "code",
   "execution_count": 3,
   "metadata": {
    "collapsed": false
   },
   "outputs": [
    {
     "data": {
      "text/html": [
       "<div>\n",
       "<style>\n",
       "    .dataframe thead tr:only-child th {\n",
       "        text-align: right;\n",
       "    }\n",
       "\n",
       "    .dataframe thead th {\n",
       "        text-align: left;\n",
       "    }\n",
       "\n",
       "    .dataframe tbody tr th {\n",
       "        vertical-align: top;\n",
       "    }\n",
       "</style>\n",
       "<table border=\"1\" class=\"dataframe\">\n",
       "  <thead>\n",
       "    <tr style=\"text-align: right;\">\n",
       "      <th></th>\n",
       "      <th>group</th>\n",
       "      <th>provenance</th>\n",
       "      <th>var1</th>\n",
       "      <th>var2</th>\n",
       "      <th>var3</th>\n",
       "    </tr>\n",
       "  </thead>\n",
       "  <tbody>\n",
       "    <tr>\n",
       "      <th>0</th>\n",
       "      <td>group1</td>\n",
       "      <td>UNIV</td>\n",
       "      <td>13.049084</td>\n",
       "      <td>14.802893</td>\n",
       "      <td>15.965563</td>\n",
       "    </tr>\n",
       "    <tr>\n",
       "      <th>1</th>\n",
       "      <td>group2</td>\n",
       "      <td>UNIV</td>\n",
       "      <td>10.605237</td>\n",
       "      <td>9.197587</td>\n",
       "      <td>17.776026</td>\n",
       "    </tr>\n",
       "  </tbody>\n",
       "</table>\n",
       "</div>"
      ],
      "text/plain": [
       "    group provenance       var1       var2       var3\n",
       "0  group1       UNIV  13.049084  14.802893  15.965563\n",
       "1  group2       UNIV  10.605237   9.197587  17.776026"
      ]
     },
     "execution_count": 3,
     "metadata": {
     },
     "output_type": "execute_result"
    }
   ],
   "source": [
    "Datasim1.head(2)"
   ]
  },
  {
   "cell_type": "markdown",
   "metadata": {
    "collapsed": false
   },
   "source": [
    "# Logique apply, et np.where\n",
    "* La logique apply permet d'appliquer une fonction python sur un dataframe.\n",
    "* np.where permet de créer une colonne à partire de conditions appliquées à autre colonne "
   ]
  },
  {
   "cell_type": "markdown",
   "metadata": {
    "collapsed": false
   },
   "source": [
    "### Création de Datasim2"
   ]
  },
  {
   "cell_type": "code",
   "execution_count": 4,
   "metadata": {
    "collapsed": true
   },
   "outputs": [
   ],
   "source": [
    "from scipy.stats import uniform, norm\n",
    "import numpy as np\n",
    "import pandas as pd\n",
    "from numpy.random import seed, randint\n",
    "seed(seed=1998)\n",
    "#somme sur une liste, extraction de l'élement 2 et 3\n",
    "Datasim2 = {'var1':norm.rvs(loc=10,scale=2,size=10),'var2':norm.rvs(loc=13,scale=1,size=10)}\n",
    "Datasim2 = pd.DataFrame(Datasim2)\n",
    "Datasim2['var3'] = [uniform.rvs(loc=1,scale=6,size=20) for o in range(0,Datasim2.shape[0])] \n",
    "Datasim2['var4'] = [np.round(uniform.rvs(loc=1,scale=6,size=20)).tolist()\\\n",
    "                    for o in range(0,Datasim2.shape[0])]"
   ]
  },
  {
   "cell_type": "code",
   "execution_count": 5,
   "metadata": {
    "collapsed": false
   },
   "outputs": [
    {
     "data": {
      "text/html": [
       "<div>\n",
       "<style>\n",
       "    .dataframe thead tr:only-child th {\n",
       "        text-align: right;\n",
       "    }\n",
       "\n",
       "    .dataframe thead th {\n",
       "        text-align: left;\n",
       "    }\n",
       "\n",
       "    .dataframe tbody tr th {\n",
       "        vertical-align: top;\n",
       "    }\n",
       "</style>\n",
       "<table border=\"1\" class=\"dataframe\">\n",
       "  <thead>\n",
       "    <tr style=\"text-align: right;\">\n",
       "      <th></th>\n",
       "      <th>var1</th>\n",
       "      <th>var2</th>\n",
       "      <th>var3</th>\n",
       "      <th>var4</th>\n",
       "    </tr>\n",
       "  </thead>\n",
       "  <tbody>\n",
       "    <tr>\n",
       "      <th>0</th>\n",
       "      <td>13.078688</td>\n",
       "      <td>12.297775</td>\n",
       "      <td>[5.08783643854, 4.31929530444, 5.60855798844, ...</td>\n",
       "      <td>[5.0, 4.0, 2.0, 2.0, 6.0, 4.0, 6.0, 3.0, 3.0, ...</td>\n",
       "    </tr>\n",
       "    <tr>\n",
       "      <th>1</th>\n",
       "      <td>10.699885</td>\n",
       "      <td>13.118363</td>\n",
       "      <td>[4.38565516955, 5.08968885244, 2.14772642592, ...</td>\n",
       "      <td>[2.0, 3.0, 4.0, 2.0, 2.0, 2.0, 4.0, 3.0, 1.0, ...</td>\n",
       "    </tr>\n",
       "  </tbody>\n",
       "</table>\n",
       "</div>"
      ],
      "text/plain": [
       "        var1       var2                                               var3  \\\n",
       "0  13.078688  12.297775  [5.08783643854, 4.31929530444, 5.60855798844, ...   \n",
       "1  10.699885  13.118363  [4.38565516955, 5.08968885244, 2.14772642592, ...   \n",
       "\n",
       "                                                var4  \n",
       "0  [5.0, 4.0, 2.0, 2.0, 6.0, 4.0, 6.0, 3.0, 3.0, ...  \n",
       "1  [2.0, 3.0, 4.0, 2.0, 2.0, 2.0, 4.0, 3.0, 1.0, ...  "
      ]
     },
     "execution_count": 5,
     "metadata": {
     },
     "output_type": "execute_result"
    }
   ],
   "source": [
    "Datasim2.head(2)"
   ]
  },
  {
   "cell_type": "markdown",
   "metadata": {
    "collapsed": false
   },
   "source": [
    "### Exemple (utilisation de np.where)\n",
    "On créer une variable Datasim2['var2cond']: \n",
    "* Si Datasim2['var2']<13 alors Datasim2['var2cond']='ok'\n",
    "* Si Datasim2['var2']<13 alors Datasim2['var2cond']='ko'"
   ]
  },
  {
   "cell_type": "code",
   "execution_count": 35,
   "metadata": {
    "collapsed": false
   },
   "outputs": [
    {
     "data": {
      "text/html": [
       "<div>\n",
       "<style>\n",
       "    .dataframe thead tr:only-child th {\n",
       "        text-align: right;\n",
       "    }\n",
       "\n",
       "    .dataframe thead th {\n",
       "        text-align: left;\n",
       "    }\n",
       "\n",
       "    .dataframe tbody tr th {\n",
       "        vertical-align: top;\n",
       "    }\n",
       "</style>\n",
       "<table border=\"1\" class=\"dataframe\">\n",
       "  <thead>\n",
       "    <tr style=\"text-align: right;\">\n",
       "      <th></th>\n",
       "      <th>var2</th>\n",
       "      <th>var2cond</th>\n",
       "    </tr>\n",
       "  </thead>\n",
       "  <tbody>\n",
       "    <tr>\n",
       "      <th>0</th>\n",
       "      <td>12.297775</td>\n",
       "      <td>ok</td>\n",
       "    </tr>\n",
       "    <tr>\n",
       "      <th>1</th>\n",
       "      <td>13.118363</td>\n",
       "      <td>ko</td>\n",
       "    </tr>\n",
       "    <tr>\n",
       "      <th>2</th>\n",
       "      <td>14.383082</td>\n",
       "      <td>ko</td>\n",
       "    </tr>\n",
       "  </tbody>\n",
       "</table>\n",
       "</div>"
      ],
      "text/plain": [
       "        var2 var2cond\n",
       "0  12.297775       ok\n",
       "1  13.118363       ko\n",
       "2  14.383082       ko"
      ]
     },
     "execution_count": 35,
     "metadata": {
     },
     "output_type": "execute_result"
    }
   ],
   "source": [
    "import numpy as np\n",
    "Datasim2['var2cond'] = np.where(Datasim2['var2']<13,'ok','ko')\n",
    "Datasim2[['var2','var2cond']].head(3)"
   ]
  },
  {
   "cell_type": "markdown",
   "metadata": {
    "collapsed": false
   },
   "source": [
    "### Exemple (utilisation de apply)\n",
    "\n",
    "On créer une variable Datasim2['var2condbis']:\n",
    "* Si Datasim2['var2']<13 alors Datasim2['var2condbis']='ok'\n",
    "* Si Datasim2['var2']<13 alors Datasim2['var2condbis']='ko'\n"
   ]
  },
  {
   "cell_type": "code",
   "execution_count": 39,
   "metadata": {
    "collapsed": false
   },
   "outputs": [
    {
     "data": {
      "text/html": [
       "<div>\n",
       "<style>\n",
       "    .dataframe thead tr:only-child th {\n",
       "        text-align: right;\n",
       "    }\n",
       "\n",
       "    .dataframe thead th {\n",
       "        text-align: left;\n",
       "    }\n",
       "\n",
       "    .dataframe tbody tr th {\n",
       "        vertical-align: top;\n",
       "    }\n",
       "</style>\n",
       "<table border=\"1\" class=\"dataframe\">\n",
       "  <thead>\n",
       "    <tr style=\"text-align: right;\">\n",
       "      <th></th>\n",
       "      <th>var2</th>\n",
       "      <th>var2cond</th>\n",
       "      <th>var2condbis</th>\n",
       "    </tr>\n",
       "  </thead>\n",
       "  <tbody>\n",
       "    <tr>\n",
       "      <th>0</th>\n",
       "      <td>12.297775</td>\n",
       "      <td>ok</td>\n",
       "      <td>ok</td>\n",
       "    </tr>\n",
       "    <tr>\n",
       "      <th>1</th>\n",
       "      <td>13.118363</td>\n",
       "      <td>ko</td>\n",
       "      <td>ko</td>\n",
       "    </tr>\n",
       "    <tr>\n",
       "      <th>2</th>\n",
       "      <td>14.383082</td>\n",
       "      <td>ko</td>\n",
       "      <td>ko</td>\n",
       "    </tr>\n",
       "  </tbody>\n",
       "</table>\n",
       "</div>"
      ],
      "text/plain": [
       "        var2 var2cond var2condbis\n",
       "0  12.297775       ok          ok\n",
       "1  13.118363       ko          ko\n",
       "2  14.383082       ko          ko"
      ]
     },
     "execution_count": 39,
     "metadata": {
     },
     "output_type": "execute_result"
    }
   ],
   "source": [
    "#lambda x: True if x % 2 == 0 else False\n",
    "Datasim2['var2condbis'] = Datasim2['var2'].apply(lambda x: 'ok' if x<13 else 'ko')\n",
    "Datasim2[['var2','var2cond','var2condbis']].head(3)"
   ]
  },
  {
   "cell_type": "markdown",
   "metadata": {
    "collapsed": false
   },
   "source": [
    "### Exemple (utilisation de apply)\n",
    "\n",
    "On créer une variable Datasim2['var2condtier']:\n",
    "* Si Datasim2['var2']<13 alors Datasim2['var2condtier']='ok'\n",
    "* Si Datasim2['var2']<13 alors Datasim2['var2condtier']='ko'\n"
   ]
  },
  {
   "cell_type": "code",
   "execution_count": 43,
   "metadata": {
    "collapsed": true
   },
   "outputs": [
   ],
   "source": [
    "def cond(x):\n",
    "    if x<13:\n",
    "        y='ok'\n",
    "    else :\n",
    "        y='ko'\n",
    "    return(y)\n",
    "\n",
    "Datasim2['var2condtier'] = Datasim2['var2'].apply(lambda x:cond(x))        "
   ]
  },
  {
   "cell_type": "markdown",
   "metadata": {
    "collapsed": false
   },
   "source": [
    "### Exemple\n",
    "On extrait le troisième élément de chaque liste stocker dans Datasim2['var4']"
   ]
  },
  {
   "cell_type": "code",
   "execution_count": 52,
   "metadata": {
    "collapsed": false
   },
   "outputs": [
    {
     "data": {
      "text/html": [
       "<div>\n",
       "<style>\n",
       "    .dataframe thead tr:only-child th {\n",
       "        text-align: right;\n",
       "    }\n",
       "\n",
       "    .dataframe thead th {\n",
       "        text-align: left;\n",
       "    }\n",
       "\n",
       "    .dataframe tbody tr th {\n",
       "        vertical-align: top;\n",
       "    }\n",
       "</style>\n",
       "<table border=\"1\" class=\"dataframe\">\n",
       "  <thead>\n",
       "    <tr style=\"text-align: right;\">\n",
       "      <th></th>\n",
       "      <th>var1</th>\n",
       "      <th>var2</th>\n",
       "      <th>var3</th>\n",
       "      <th>var4</th>\n",
       "      <th>var2cond</th>\n",
       "      <th>var2condbis</th>\n",
       "      <th>var2condtier</th>\n",
       "      <th>var1cond</th>\n",
       "      <th>var1condbis</th>\n",
       "      <th>sumvar3</th>\n",
       "      <th>var4extract</th>\n",
       "    </tr>\n",
       "  </thead>\n",
       "  <tbody>\n",
       "    <tr>\n",
       "      <th>0</th>\n",
       "      <td>13.078688</td>\n",
       "      <td>12.297775</td>\n",
       "      <td>[5.08783643854, 4.31929530444, 5.60855798844, ...</td>\n",
       "      <td>[5.0, 4.0, 2.0, 2.0, 6.0, 4.0, 6.0, 3.0, 3.0, ...</td>\n",
       "      <td>ok</td>\n",
       "      <td>ok</td>\n",
       "      <td>ok</td>\n",
       "      <td>non</td>\n",
       "      <td>non</td>\n",
       "      <td>85.916857</td>\n",
       "      <td>2.0</td>\n",
       "    </tr>\n",
       "    <tr>\n",
       "      <th>1</th>\n",
       "      <td>10.699885</td>\n",
       "      <td>13.118363</td>\n",
       "      <td>[4.38565516955, 5.08968885244, 2.14772642592, ...</td>\n",
       "      <td>[2.0, 3.0, 4.0, 2.0, 2.0, 2.0, 4.0, 3.0, 1.0, ...</td>\n",
       "      <td>ko</td>\n",
       "      <td>ko</td>\n",
       "      <td>ko</td>\n",
       "      <td>non</td>\n",
       "      <td>non</td>\n",
       "      <td>79.394726</td>\n",
       "      <td>2.0</td>\n",
       "    </tr>\n",
       "    <tr>\n",
       "      <th>2</th>\n",
       "      <td>11.577937</td>\n",
       "      <td>14.383082</td>\n",
       "      <td>[1.76799108326, 4.63829521568, 6.18488309772, ...</td>\n",
       "      <td>[1.0, 4.0, 4.0, 7.0, 5.0, 7.0, 3.0, 5.0, 6.0, ...</td>\n",
       "      <td>ko</td>\n",
       "      <td>ko</td>\n",
       "      <td>ko</td>\n",
       "      <td>non</td>\n",
       "      <td>non</td>\n",
       "      <td>83.174359</td>\n",
       "      <td>7.0</td>\n",
       "    </tr>\n",
       "  </tbody>\n",
       "</table>\n",
       "</div>"
      ],
      "text/plain": [
       "        var1       var2                                               var3  \\\n",
       "0  13.078688  12.297775  [5.08783643854, 4.31929530444, 5.60855798844, ...   \n",
       "1  10.699885  13.118363  [4.38565516955, 5.08968885244, 2.14772642592, ...   \n",
       "2  11.577937  14.383082  [1.76799108326, 4.63829521568, 6.18488309772, ...   \n",
       "\n",
       "                                                var4 var2cond var2condbis  \\\n",
       "0  [5.0, 4.0, 2.0, 2.0, 6.0, 4.0, 6.0, 3.0, 3.0, ...       ok          ok   \n",
       "1  [2.0, 3.0, 4.0, 2.0, 2.0, 2.0, 4.0, 3.0, 1.0, ...       ko          ko   \n",
       "2  [1.0, 4.0, 4.0, 7.0, 5.0, 7.0, 3.0, 5.0, 6.0, ...       ko          ko   \n",
       "\n",
       "  var2condtier var1cond var1condbis    sumvar3  var4extract  \n",
       "0           ok      non         non  85.916857          2.0  \n",
       "1           ko      non         non  79.394726          2.0  \n",
       "2           ko      non         non  83.174359          7.0  "
      ]
     },
     "execution_count": 52,
     "metadata": {
     },
     "output_type": "execute_result"
    }
   ],
   "source": [
    "Datasim2['var4extract'] = Datasim2['var4'].apply(lambda x:x[3])\n",
    "Datasim2.head(3)"
   ]
  },
  {
   "cell_type": "markdown",
   "metadata": {
    "collapsed": false
   },
   "source": [
    "### Exercice\n",
    "On travail à partir du dataframe Datasim2. (n'oublier pas de créer Datasim2')<br>\n",
    "1) Créer une variable Datasim2['var1cond']: oui si $8<Datasim2['var1']<10$, non dans le cas contraire (on utilisera np.where)<br>\n",
    "2) Créer une variable Datasim2['var1cond']: oui si $8<Datasim2['var1']<10$, non dans le cas contraire (on utilisera apply)<br>\n",
    "3) Créer une variable Datasim2['sumvar3'] qui est la somme des np.array stocker dans var3."
   ]
  },
  {
   "cell_type": "markdown",
   "metadata": {
    "collapsed": false
   },
   "source": [
    "# Agrégation de donnée, group by\n",
    "\n",
    "https://pandas.pydata.org/pandas-docs/stable/generated/pandas.core.groupby.DataFrameGroupBy.agg.html<br>\n",
    "https://pandas.pydata.org/pandas-docs/stable/comparison_with_sql.html"
   ]
  },
  {
   "cell_type": "code",
   "execution_count": 6,
   "metadata": {
    "collapsed": true
   },
   "outputs": [
   ],
   "source": [
    "#url = 'https://raw.github.com/pandas-dev/pandas/master/pandas/tests/data/tips.csv'\n",
    "#tips = pd.read_csv(url)\n",
    "semaine = ['lundi','mardi','mercredi','jeudi','vendredi']\n",
    "a = 2\n",
    "moyenne = [10,10+a,10+2*a,10+3*a,10+4*a]\n",
    "sex = ['H','F']\n",
    "repas = ['midi','soir']\n",
    "from scipy.stats import norm\n",
    "from numpy.random import randint, choice, seed\n",
    "import pandas as pd\n",
    "seed(seed=1998)\n",
    "\n",
    "\n",
    "HF = choice(sex,replace=True,p=[1/3,2/3],size=100)\n",
    "SOIR_MIDI = choice(repas,replace=True,p=[1/2,1/2],size=100)\n",
    "#JOUR_FACT = [[randint(0,5)] for i in range(0,100)]\n",
    "JOUR_FACT = []\n",
    "for i in range(0,100):\n",
    "    pos = randint(0,5)\n",
    "    el = [semaine[pos],norm.rvs(loc=moyenne[pos],scale=2,size=1)[0]]\n",
    "    JOUR_FACT.append(el)\n",
    "\n",
    "JOUR = [o[0] for o in JOUR_FACT]\n",
    "FACT = [o[1] for o in JOUR_FACT]\n",
    "\n",
    "Data_a_aggrege = {'sex' : HF,'repas':SOIR_MIDI,'jour': JOUR,'total':FACT,'PB':randint(0,3,size=100)}\n",
    "Data_a_aggrege = pd.DataFrame(Data_a_aggrege)"
   ]
  },
  {
   "cell_type": "code",
   "execution_count": 7,
   "metadata": {
    "collapsed": false
   },
   "outputs": [
    {
     "data": {
      "text/html": [
       "<div>\n",
       "<style>\n",
       "    .dataframe thead tr:only-child th {\n",
       "        text-align: right;\n",
       "    }\n",
       "\n",
       "    .dataframe thead th {\n",
       "        text-align: left;\n",
       "    }\n",
       "\n",
       "    .dataframe tbody tr th {\n",
       "        vertical-align: top;\n",
       "    }\n",
       "</style>\n",
       "<table border=\"1\" class=\"dataframe\">\n",
       "  <thead>\n",
       "    <tr style=\"text-align: right;\">\n",
       "      <th></th>\n",
       "      <th>PB</th>\n",
       "      <th>jour</th>\n",
       "      <th>repas</th>\n",
       "      <th>sex</th>\n",
       "      <th>total</th>\n",
       "    </tr>\n",
       "  </thead>\n",
       "  <tbody>\n",
       "    <tr>\n",
       "      <th>0</th>\n",
       "      <td>1</td>\n",
       "      <td>vendredi</td>\n",
       "      <td>midi</td>\n",
       "      <td>F</td>\n",
       "      <td>17.163936</td>\n",
       "    </tr>\n",
       "    <tr>\n",
       "      <th>1</th>\n",
       "      <td>2</td>\n",
       "      <td>jeudi</td>\n",
       "      <td>midi</td>\n",
       "      <td>F</td>\n",
       "      <td>12.491058</td>\n",
       "    </tr>\n",
       "    <tr>\n",
       "      <th>2</th>\n",
       "      <td>0</td>\n",
       "      <td>lundi</td>\n",
       "      <td>soir</td>\n",
       "      <td>H</td>\n",
       "      <td>8.332165</td>\n",
       "    </tr>\n",
       "  </tbody>\n",
       "</table>\n",
       "</div>"
      ],
      "text/plain": [
       "   PB      jour repas sex      total\n",
       "0   1  vendredi  midi   F  17.163936\n",
       "1   2     jeudi  midi   F  12.491058\n",
       "2   0     lundi  soir   H   8.332165"
      ]
     },
     "execution_count": 7,
     "metadata": {
     },
     "output_type": "execute_result"
    }
   ],
   "source": [
    "Data_a_aggrege.head(3)"
   ]
  },
  {
   "cell_type": "markdown",
   "metadata": {
    "collapsed": false
   },
   "source": [
    "### Exemple\n",
    "1) On va chercher les valeurs unique de la colonne repas. On convertit le résulat en list<br>\n",
    "2) On va chercher le maximum de la colonne total."
   ]
  },
  {
   "cell_type": "code",
   "execution_count": 81,
   "metadata": {
    "collapsed": false
   },
   "outputs": [
    {
     "data": {
      "text/plain": [
       "['soir', 'midi']"
      ]
     },
     "execution_count": 81,
     "metadata": {
     },
     "output_type": "execute_result"
    }
   ],
   "source": [
    "Data_a_aggrege['repas'].unique().tolist()"
   ]
  },
  {
   "cell_type": "code",
   "execution_count": 7,
   "metadata": {
    "collapsed": false
   },
   "outputs": [
    {
     "data": {
      "text/plain": [
       "21.963736630043087"
      ]
     },
     "execution_count": 7,
     "metadata": {
     },
     "output_type": "execute_result"
    }
   ],
   "source": [
    "max_total = Data_a_aggrege['total'].max()\n",
    "max_total"
   ]
  },
  {
   "cell_type": "markdown",
   "metadata": {
    "collapsed": false
   },
   "source": [
    "### Exercice\n",
    "1) Chercher la médianne de la colonne Data_a_aggrege['total'].<br>\n",
    "2) Chercher les valeur unique de la colonne Data_a_aggrege['jour']. Mettre les résultats dans une list."
   ]
  },
  {
   "cell_type": "markdown",
   "metadata": {
    "collapsed": false
   },
   "source": [
    "### Exemple. Calcule d'agrégat\n",
    "On va calculer la moyenne de la colonne Data_a_aggrege['total'] par Data_a_aggrege['jour'] et Data_a_aggrege['sexe']"
   ]
  },
  {
   "cell_type": "code",
   "execution_count": 8,
   "metadata": {
    "collapsed": false
   },
   "outputs": [
    {
     "data": {
      "text/html": [
       "<div>\n",
       "<style>\n",
       "    .dataframe thead tr:only-child th {\n",
       "        text-align: right;\n",
       "    }\n",
       "\n",
       "    .dataframe thead th {\n",
       "        text-align: left;\n",
       "    }\n",
       "\n",
       "    .dataframe tbody tr th {\n",
       "        vertical-align: top;\n",
       "    }\n",
       "</style>\n",
       "<table border=\"1\" class=\"dataframe\">\n",
       "  <thead>\n",
       "    <tr style=\"text-align: right;\">\n",
       "      <th></th>\n",
       "      <th></th>\n",
       "      <th>total</th>\n",
       "      <th>PB</th>\n",
       "    </tr>\n",
       "    <tr>\n",
       "      <th>jour</th>\n",
       "      <th>sex</th>\n",
       "      <th></th>\n",
       "      <th></th>\n",
       "    </tr>\n",
       "  </thead>\n",
       "  <tbody>\n",
       "    <tr>\n",
       "      <th rowspan=\"2\" valign=\"top\">jeudi</th>\n",
       "      <th>F</th>\n",
       "      <td>16.415232</td>\n",
       "      <td>2</td>\n",
       "    </tr>\n",
       "    <tr>\n",
       "      <th>H</th>\n",
       "      <td>16.796861</td>\n",
       "      <td>2</td>\n",
       "    </tr>\n",
       "  </tbody>\n",
       "</table>\n",
       "</div>"
      ],
      "text/plain": [
       "               total  PB\n",
       "jour  sex               \n",
       "jeudi F    16.415232   2\n",
       "      H    16.796861   2"
      ]
     },
     "execution_count": 8,
     "metadata": {
     },
     "output_type": "execute_result"
    }
   ],
   "source": [
    "import numpy as np\n",
    "agg1 = Data_a_aggrege.groupby(['jour','sex']).agg({'total':np.mean,'PB':np.max})\n",
    "agg1.head(2)"
   ]
  },
  {
   "cell_type": "markdown",
   "metadata": {
    "collapsed": false
   },
   "source": [
    "### Exemple (calcule agrégat)\n",
    "Ici on calcule la médianne et le max de Data_a_aggrege['total'] groupé par jour et sex. On calcule également le minimum et la moyenne de la variable Data_a_aggrege['PB'] groupé par jour et sex."
   ]
  },
  {
   "cell_type": "code",
   "execution_count": 9,
   "metadata": {
    "collapsed": false
   },
   "outputs": [
    {
     "data": {
      "text/html": [
       "<div>\n",
       "<style>\n",
       "    .dataframe thead tr:only-child th {\n",
       "        text-align: right;\n",
       "    }\n",
       "\n",
       "    .dataframe thead th {\n",
       "        text-align: left;\n",
       "    }\n",
       "\n",
       "    .dataframe tbody tr th {\n",
       "        vertical-align: top;\n",
       "    }\n",
       "</style>\n",
       "<table border=\"1\" class=\"dataframe\">\n",
       "  <thead>\n",
       "    <tr>\n",
       "      <th></th>\n",
       "      <th></th>\n",
       "      <th colspan=\"2\" halign=\"left\">total</th>\n",
       "      <th colspan=\"2\" halign=\"left\">PB</th>\n",
       "    </tr>\n",
       "    <tr>\n",
       "      <th></th>\n",
       "      <th></th>\n",
       "      <th>median</th>\n",
       "      <th>max</th>\n",
       "      <th>min</th>\n",
       "      <th>mean</th>\n",
       "    </tr>\n",
       "    <tr>\n",
       "      <th>jour</th>\n",
       "      <th>sex</th>\n",
       "      <th></th>\n",
       "      <th></th>\n",
       "      <th></th>\n",
       "      <th></th>\n",
       "    </tr>\n",
       "  </thead>\n",
       "  <tbody>\n",
       "    <tr>\n",
       "      <th rowspan=\"2\" valign=\"top\">jeudi</th>\n",
       "      <th>F</th>\n",
       "      <td>16.628906</td>\n",
       "      <td>21.168633</td>\n",
       "      <td>0</td>\n",
       "      <td>0.863636</td>\n",
       "    </tr>\n",
       "    <tr>\n",
       "      <th>H</th>\n",
       "      <td>17.102278</td>\n",
       "      <td>17.739241</td>\n",
       "      <td>0</td>\n",
       "      <td>1.500000</td>\n",
       "    </tr>\n",
       "  </tbody>\n",
       "</table>\n",
       "</div>"
      ],
      "text/plain": [
       "               total             PB          \n",
       "              median        max min      mean\n",
       "jour  sex                                    \n",
       "jeudi F    16.628906  21.168633   0  0.863636\n",
       "      H    17.102278  17.739241   0  1.500000"
      ]
     },
     "execution_count": 9,
     "metadata": {
     },
     "output_type": "execute_result"
    }
   ],
   "source": [
    "agg2 = Data_a_aggrege.groupby(['jour','sex']).agg({'total':['median','max'],'PB':['min','mean']})\n",
    "agg2.head(2)"
   ]
  },
  {
   "cell_type": "markdown",
   "metadata": {
    "collapsed": false
   },
   "source": [
    "### Exemple\n",
    "Ici on regarde la répartition du nombre de ligne du dataframe Data_a_aggrege par jour,repas et sex: "
   ]
  },
  {
   "cell_type": "code",
   "execution_count": 10,
   "metadata": {
    "collapsed": false
   },
   "outputs": [
    {
     "data": {
      "text/html": [
       "<div>\n",
       "<style>\n",
       "    .dataframe thead tr:only-child th {\n",
       "        text-align: right;\n",
       "    }\n",
       "\n",
       "    .dataframe thead th {\n",
       "        text-align: left;\n",
       "    }\n",
       "\n",
       "    .dataframe tbody tr th {\n",
       "        vertical-align: top;\n",
       "    }\n",
       "</style>\n",
       "<table border=\"1\" class=\"dataframe\">\n",
       "  <thead>\n",
       "    <tr style=\"text-align: right;\">\n",
       "      <th></th>\n",
       "      <th></th>\n",
       "      <th></th>\n",
       "      <th>PB</th>\n",
       "      <th>total</th>\n",
       "    </tr>\n",
       "    <tr>\n",
       "      <th>jour</th>\n",
       "      <th>repas</th>\n",
       "      <th>sex</th>\n",
       "      <th></th>\n",
       "      <th></th>\n",
       "    </tr>\n",
       "  </thead>\n",
       "  <tbody>\n",
       "    <tr>\n",
       "      <th rowspan=\"3\" valign=\"top\">jeudi</th>\n",
       "      <th rowspan=\"2\" valign=\"top\">midi</th>\n",
       "      <th>F</th>\n",
       "      <td>12</td>\n",
       "      <td>12</td>\n",
       "    </tr>\n",
       "    <tr>\n",
       "      <th>H</th>\n",
       "      <td>3</td>\n",
       "      <td>3</td>\n",
       "    </tr>\n",
       "    <tr>\n",
       "      <th>soir</th>\n",
       "      <th>F</th>\n",
       "      <td>10</td>\n",
       "      <td>10</td>\n",
       "    </tr>\n",
       "  </tbody>\n",
       "</table>\n",
       "</div>"
      ],
      "text/plain": [
       "                 PB  total\n",
       "jour  repas sex           \n",
       "jeudi midi  F    12     12\n",
       "            H     3      3\n",
       "      soir  F    10     10"
      ]
     },
     "execution_count": 10,
     "metadata": {
     },
     "output_type": "execute_result"
    }
   ],
   "source": [
    "agg3 = Data_a_aggrege.groupby(['jour','repas','sex']).count()\n",
    "agg3.head(3)"
   ]
  },
  {
   "cell_type": "markdown",
   "metadata": {
    "collapsed": false
   },
   "source": [
    "### Exercice\n",
    "1) Calculer la somme et la moyenne de la variable Data_a_aggrege['PB'] groupé par repas<br>\n",
    "2) Calculer la somme et la moyenne de la variable Data_a_aggrege['total'] groupé par repas<br>\n",
    "3) Faire les calcule 1) et 2) en une ligne de code"
   ]
  },
  {
   "cell_type": "markdown",
   "metadata": {
    "collapsed": false
   },
   "source": [
    "# Export et import de dataframe\n",
    "Nous donnons dans le tableau quelques fonction d'export d'un dataframe:<br><br>\n",
    "<table border=\"1\" >\n",
    "<tr>\n",
    " <td>to_csv([path_or_buf, sep, na_rep, …])</td> <td>Write DataFrame to a comma-separated values (csv) file</td>\n",
    "</tr>\n",
    "<tr>\n",
    " <td>to_dict([orient, into])</td> <td> Convert the DataFrame to a dictionary  </td>\n",
    "</tr>\n",
    "<tr>\n",
    " <td>to_excel(excel_writer[, sheet_name, na_rep, …])</td>  <td> Write DataFrame to an excel sheet</td>\n",
    "</tr>\n",
    "<tr>\n",
    " <td>to_pickle(path[, compression, protocol])</td> <td>Pickle (serialize) object to file.</td>\n",
    "</tr>\n",
    "</table>\n",
    "\n",
    "Nous donnons dans le tableau quelques fonction d'importation d'un dataframe:<br><br>\n",
    "<table border=\"1\" >\n",
    "<tr>\n",
    " <td>pandas.read_csv</td> <td>importation d'un fichier csv</td>\n",
    "</tr>\n",
    "<tr>\n",
    " <td>pandas.read_excel</td>  <td> importation d'un fichier excel</td>\n",
    "</tr>\n",
    "<tr>\n",
    " <td>pandas.read_pickle</td> <td> importation d'un fichier pickle</td>\n",
    "</tr>\n",
    "</table>"
   ]
  },
  {
   "cell_type": "markdown",
   "metadata": {
    "collapsed": false
   },
   "source": [
    "### Exemple (exportation de fichier)\n",
    "1) Exporter le dataframe Data_a_aggrege dans un fichier excel<br>\n",
    "2) Exporter le dataframe Data_a_aggrege dans un fichier csv<br>\n",
    "3) Exporter le dataframe Data_a_aggrege dans un fichier pickle"
   ]
  },
  {
   "cell_type": "code",
   "execution_count": 41,
   "metadata": {
    "collapsed": true
   },
   "outputs": [
   ],
   "source": [
    "Data_a_aggrege.to_csv(\"/home/fabien/Bureau/Python Dauphine/export/data.csv\",sep=\";\",index=False)\n",
    "\n",
    "Data_a_aggrege.to_excel(\"/home/fabien/Bureau/Python Dauphine/export/data.xlsx\",sheet_name=\"data\",index=False)\n",
    "\n",
    "Data_a_aggrege.to_pickle(\"/home/fabien/Bureau/Python Dauphine/export/data.pkl\")"
   ]
  },
  {
   "cell_type": "markdown",
   "metadata": {
    "collapsed": false
   },
   "source": [
    "### Exemple (importation de fichier)\n",
    "Ci-dessous, nous importons 3 fichiers. Ces importations produisent des dataframes pandas. "
   ]
  },
  {
   "cell_type": "code",
   "execution_count": 46,
   "metadata": {
    "collapsed": true
   },
   "outputs": [
   ],
   "source": [
    "import pandas as pd\n",
    "Dataimport1 = pd.read_csv(\"/home/fabien/Bureau/Python Dauphine/export/data.csv\",sep=\";\",encoding='latin_1')\n",
    "\n",
    "Dataimport2 = pd.read_excel(\"/home/fabien/Bureau/Python Dauphine/export/data.xlsx\",sheet_name=\"data\")\n",
    "\n",
    "Dataimport3 = pd.read_pickle(\"/home/fabien/Bureau/Python Dauphine/export/data.pkl\")"
   ]
  },
  {
   "cell_type": "code",
   "execution_count": 47,
   "metadata": {
    "collapsed": false
   },
   "outputs": [
    {
     "data": {
      "text/html": [
       "<div>\n",
       "<style>\n",
       "    .dataframe thead tr:only-child th {\n",
       "        text-align: right;\n",
       "    }\n",
       "\n",
       "    .dataframe thead th {\n",
       "        text-align: left;\n",
       "    }\n",
       "\n",
       "    .dataframe tbody tr th {\n",
       "        vertical-align: top;\n",
       "    }\n",
       "</style>\n",
       "<table border=\"1\" class=\"dataframe\">\n",
       "  <thead>\n",
       "    <tr style=\"text-align: right;\">\n",
       "      <th></th>\n",
       "      <th>PB</th>\n",
       "      <th>jour</th>\n",
       "      <th>repas</th>\n",
       "      <th>sex</th>\n",
       "      <th>total</th>\n",
       "    </tr>\n",
       "  </thead>\n",
       "  <tbody>\n",
       "    <tr>\n",
       "      <th>0</th>\n",
       "      <td>1</td>\n",
       "      <td>vendredi</td>\n",
       "      <td>midi</td>\n",
       "      <td>F</td>\n",
       "      <td>17.163936</td>\n",
       "    </tr>\n",
       "    <tr>\n",
       "      <th>1</th>\n",
       "      <td>2</td>\n",
       "      <td>jeudi</td>\n",
       "      <td>midi</td>\n",
       "      <td>F</td>\n",
       "      <td>12.491058</td>\n",
       "    </tr>\n",
       "    <tr>\n",
       "      <th>2</th>\n",
       "      <td>0</td>\n",
       "      <td>lundi</td>\n",
       "      <td>soir</td>\n",
       "      <td>H</td>\n",
       "      <td>8.332165</td>\n",
       "    </tr>\n",
       "  </tbody>\n",
       "</table>\n",
       "</div>"
      ],
      "text/plain": [
       "   PB      jour repas sex      total\n",
       "0   1  vendredi  midi   F  17.163936\n",
       "1   2     jeudi  midi   F  12.491058\n",
       "2   0     lundi  soir   H   8.332165"
      ]
     },
     "execution_count": 47,
     "metadata": {
     },
     "output_type": "execute_result"
    }
   ],
   "source": [
    "Dataimport3.head(3)"
   ]
  },
  {
   "cell_type": "code",
   "execution_count": 45,
   "metadata": {
    "collapsed": false
   },
   "outputs": [
    {
     "data": {
      "text/html": [
       "<div>\n",
       "<style>\n",
       "    .dataframe thead tr:only-child th {\n",
       "        text-align: right;\n",
       "    }\n",
       "\n",
       "    .dataframe thead th {\n",
       "        text-align: left;\n",
       "    }\n",
       "\n",
       "    .dataframe tbody tr th {\n",
       "        vertical-align: top;\n",
       "    }\n",
       "</style>\n",
       "<table border=\"1\" class=\"dataframe\">\n",
       "  <thead>\n",
       "    <tr style=\"text-align: right;\">\n",
       "      <th></th>\n",
       "      <th>PB</th>\n",
       "      <th>jour</th>\n",
       "      <th>repas</th>\n",
       "      <th>sex</th>\n",
       "      <th>total</th>\n",
       "    </tr>\n",
       "  </thead>\n",
       "  <tbody>\n",
       "    <tr>\n",
       "      <th>0</th>\n",
       "      <td>1</td>\n",
       "      <td>vendredi</td>\n",
       "      <td>midi</td>\n",
       "      <td>F</td>\n",
       "      <td>17.163936</td>\n",
       "    </tr>\n",
       "    <tr>\n",
       "      <th>1</th>\n",
       "      <td>2</td>\n",
       "      <td>jeudi</td>\n",
       "      <td>midi</td>\n",
       "      <td>F</td>\n",
       "      <td>12.491058</td>\n",
       "    </tr>\n",
       "    <tr>\n",
       "      <th>2</th>\n",
       "      <td>0</td>\n",
       "      <td>lundi</td>\n",
       "      <td>soir</td>\n",
       "      <td>H</td>\n",
       "      <td>8.332165</td>\n",
       "    </tr>\n",
       "  </tbody>\n",
       "</table>\n",
       "</div>"
      ],
      "text/plain": [
       "   PB      jour repas sex      total\n",
       "0   1  vendredi  midi   F  17.163936\n",
       "1   2     jeudi  midi   F  12.491058\n",
       "2   0     lundi  soir   H   8.332165"
      ]
     },
     "execution_count": 45,
     "metadata": {
     },
     "output_type": "execute_result"
    }
   ],
   "source": [
    "Dataimport2.head(3)\n",
    "#df.drop_duplicates()"
   ]
  },
  {
   "cell_type": "markdown",
   "metadata": {
    "collapsed": false
   },
   "source": [
    "# Exercice à rendre"
   ]
  },
  {
   "cell_type": "markdown",
   "metadata": {
    "collapsed": false
   },
   "source": [
    "### Exercice 1\n",
    "Dans cet exercice, on travail avec le fichier mpg.txt (Miles Per Gallon). Ce fichier est téléchargeable:<br>\n",
    "* Voici un lien pour accéder au https://www.dropbox.com/sh/3sfu75df0lytgqk/AADLDVhlbnLtyFlyhRzt6yJta?dl=0<br>\n",
    "* Voici un lien pour télécharger directement le fichier https://www.dropbox.com/s/s4v4wfllmdhaqtd/mpg.txt?dl=0<br>\n",
    "\n",
    "Attention ce fichier n'a pas de nom de colonne.<br>\n",
    "Voici les attributs et l'ordre dans lequel ces attributs apparaissent dans le fichier.\n",
    "1. mpg: continuous\n",
    "2. cylinders: multi-valued discrete\n",
    "3. displacement: continuous\n",
    "4. horsepower: continuous\n",
    "5. weight: continuous\n",
    "6. acceleration: continuous\n",
    "7. model year: multi-valued discrete\n",
    "8. origin: multi-valued discrete\n",
    "9. car name: string (unique for each instance)\n",
    "\n",
    "1) Importer ce fichier dans un dataframe pandas s'appelant mpg. Les noms des colonnes de ce fichiers doivent être:<br>\n",
    "[mpg,cylinders,displacement,horsepower,weight,acceleration,model year,origin,car name]"
   ]
  },
  {
   "cell_type": "markdown",
   "metadata": {
    "collapsed": false
   },
   "source": [
    "2) Quelle est la plus petite valeur de la variable mpg. Cette la valeur sera mise dans une variable min_mpg et sera afficher à l'aide d'un print. "
   ]
  },
  {
   "cell_type": "markdown",
   "metadata": {
    "collapsed": false
   },
   "source": [
    "3) Certaint élément de la colonne horsepower ont la valeur '?'. Créer un dataframe mpgbis à partir de mpg en supriment les ligne de la colonne horsepower ayant pour valeur '?'. Convertir ensuite la colonne mpgbis['horspower'] en np.float64 à l'aide de astype."
   ]
  },
  {
   "cell_type": "markdown",
   "metadata": {
    "collapsed": false
   },
   "source": [
    "4) Dans la suite de l'exercice on utilise le dataframe mpgbis. Trouver la moyenne de la colonne horsepower. Trouver ensuite la quantité de voiture dont la valeur de horsepower est supérieur à cette moyenne. Cette quantité sera miss dans une variable nb_voiture et sera afficher à l'aide d'un print."
   ]
  },
  {
   "cell_type": "markdown",
   "metadata": {
    "collapsed": false
   },
   "source": [
    "5) Donner la moyenne et la medianne de mpgbis['weight'] et de mpgbis['acceleration'] pour chaque valeur de mpgbis['model year'] et mpgbis['origin'] (il faut faire un groupby 'model year' et 'origin'). Le résulat de cette requête sera stocker dans un dataframe agg_car. Afficher les 3 première ligne de agg_car."
   ]
  },
  {
   "cell_type": "markdown",
   "metadata": {
    "collapsed": false
   },
   "source": [
    "6) Trouver les valeurs unique de mpgbis['origin'] que l'on stockera dans une variable origine_unique. A partir de mpgbis créer 3 dataframe comme suit:\n",
    "* créer un dataframe dont la colonne mpgbis['origin'] vaut 1, \n",
    "* créer un dataframe dont la colonne mpgbis['origin'] vaut 2, \n",
    "* créer un dataframe dont la colonne mpgbis['origin'] vaut 3.\n",
    "\n",
    "Ensuite, exporter ces 3 dataframes dans fichier excel export_car.xlsx ayant 3 feuillets: origine1, origine2 et origine3. Vous pouvez consulter la page internet suivante:<br>\n",
    "https://pandas.pydata.org/pandas-docs/stable/generated/pandas.DataFrame.to_excel.html"
   ]
  },
  {
   "cell_type": "markdown",
   "metadata": {
    "collapsed": false
   },
   "source": [
    "7) Donner la moyenne et la médianne mpgbis['horsepower'] par  mpgbis['model year']. Le résultat sera stocker dans un dataframe agg_horse.<br>\n",
    "Changer l'index de ce dataframe. Cet index sera de la forme suivante: '1970-01-01','1971-02-01',...,'1980-03-01'. Vous pouvez utiliser la fonction date du package datetime. Vous pouvez également utiliser la focntion du package pandas pd.date_range.<br>\n",
    "https://pandas.pydata.org/pandas-docs/stable/generated/pandas.date_range.html"
   ]
  }
 ],
 "metadata": {
  "kernelspec": {
   "display_name": "Python 3 (system-wide)",
   "language": "python",
   "metadata": {
    "cocalc": {
     "description": "Python 3 programming language",
     "priority": 100,
     "url": "https://www.python.org/"
    }
   },
   "name": "python3"
  },
  "language_info": {
   "codemirror_mode": {
    "name": "ipython",
    "version": 3
   },
   "file_extension": ".py",
   "mimetype": "text/x-python",
   "name": "python",
   "nbconvert_exporter": "python",
   "pygments_lexer": "ipython3",
   "version": "3.6.8"
  }
 },
 "nbformat": 4,
 "nbformat_minor": 0
}